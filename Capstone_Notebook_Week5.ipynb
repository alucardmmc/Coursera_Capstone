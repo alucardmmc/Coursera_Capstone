{
 "cells": [
  {
   "cell_type": "markdown",
   "metadata": {},
   "source": [
    "# CAPSTONE PROJECT - HOSPITALS IN LIMA DISTRICT"
   ]
  },
  {
   "cell_type": "markdown",
   "metadata": {},
   "source": [
    "---"
   ]
  },
  {
   "cell_type": "markdown",
   "metadata": {},
   "source": [
    "## INTRODUCTION"
   ]
  },
  {
   "cell_type": "markdown",
   "metadata": {},
   "source": [
    "The coronavirus **COVID-19 pandemic** is the defining global health crisis of our time and one of the greatest challenges we have ever faced. Since its beginnings in Asia, it has spread to most countries in the world, making the presidents order a long quarantine to keep it at bay. Unfortunately, the economy of every nation has plummeted while the positive cases and deaths keep increasing. There doesn’t seem to be a cure in the near future, leaving us with the only option of coexist with the virus. "
   ]
  },
  {
   "cell_type": "markdown",
   "metadata": {},
   "source": [
    "**Peru is one of the most affected nations by COVID-19**, being in the top 10 countries with most cases as of June 2, 2020. The Peruvian president Martín Vizcarra declared a national state of emergency on March 15, when the country had just 71 confirmed cases of COVID-19. The order closed Peru’s borders and banned Peruvians from leaving the house except to access essential goods or perform essential work. But public health experts say living and working conditions in the country of 33 million, where a fifth of people live on only around $100 a month, has made it near impossible for many Peruvians to comply with quarantine measures."
   ]
  },
  {
   "cell_type": "markdown",
   "metadata": {},
   "source": [
    "### Business Problem"
   ]
  },
  {
   "cell_type": "markdown",
   "metadata": {},
   "source": [
    "The government of Peru has organized a group of data scientists to analyze the COVID-19 positive cases in the city of Lima and select a district to open a new hospital. Lima is the capital city of Peru, and it holds 60% of the total positive cases in the country. \n",
    "\n",
    "**Analyzing the data, which districts would the team recommend opening a new hospital?**"
   ]
  },
  {
   "cell_type": "markdown",
   "metadata": {},
   "source": [
    "---"
   ]
  },
  {
   "cell_type": "markdown",
   "metadata": {},
   "source": [
    "## DATA"
   ]
  },
  {
   "cell_type": "markdown",
   "metadata": {},
   "source": [
    "To solve this problem, the team has set up to find the following data:"
   ]
  },
  {
   "cell_type": "markdown",
   "metadata": {},
   "source": [
    " * List of districts in Lima, Peru. This encompass the whole project.\n",
    " * Latitude and Longitude of the districts in Lima, Peru. We need this information to plot the map and get the hospitals nearby.\n",
    " * COVID-19 positive cases in Lima per district.\n",
    " * Hospitals in Lima per district."
   ]
  },
  {
   "cell_type": "markdown",
   "metadata": {},
   "source": [
    "For now, we'll set up the packages we need for this project:"
   ]
  },
  {
   "cell_type": "code",
   "execution_count": 2,
   "metadata": {},
   "outputs": [],
   "source": [
    "import numpy as np\n",
    "import pandas as pd\n",
    "import lxml\n",
    "from geopy.geocoders import Nominatim\n",
    "import matplotlib.cm as cm\n",
    "import matplotlib.colors as colors\n",
    "from sklearn.cluster import KMeans\n",
    "import folium\n",
    "import requests"
   ]
  },
  {
   "cell_type": "markdown",
   "metadata": {},
   "source": [
    "### List of Districts in Lima"
   ]
  },
  {
   "cell_type": "markdown",
   "metadata": {},
   "source": [
    "The Wikipedia Page https://en.wikipedia.org/wiki/List_of_districts_of_Lima has the data we need in a table format. "
   ]
  },
  {
   "cell_type": "code",
   "execution_count": 3,
   "metadata": {},
   "outputs": [],
   "source": [
    "wiki = 'https://en.wikipedia.org/wiki/List_of_districts_of_Lima'\n",
    "tables = pd.read_html(wiki) #Returns a list\n",
    "df_dist = tables[0] # tables[0] is a dataframe"
   ]
  },
  {
   "cell_type": "code",
   "execution_count": 4,
   "metadata": {},
   "outputs": [
    {
     "data": {
      "text/html": [
       "<div>\n",
       "<style scoped>\n",
       "    .dataframe tbody tr th:only-of-type {\n",
       "        vertical-align: middle;\n",
       "    }\n",
       "\n",
       "    .dataframe tbody tr th {\n",
       "        vertical-align: top;\n",
       "    }\n",
       "\n",
       "    .dataframe thead th {\n",
       "        text-align: right;\n",
       "    }\n",
       "</style>\n",
       "<table border=\"1\" class=\"dataframe\">\n",
       "  <thead>\n",
       "    <tr style=\"text-align: right;\">\n",
       "      <th></th>\n",
       "      <th>Districts</th>\n",
       "      <th>UBIGEO</th>\n",
       "      <th>Area(km²)</th>\n",
       "      <th>Population</th>\n",
       "      <th>Population density(/km²)</th>\n",
       "      <th>Created</th>\n",
       "      <th>Postalcode</th>\n",
       "      <th>Location</th>\n",
       "    </tr>\n",
       "  </thead>\n",
       "  <tbody>\n",
       "    <tr>\n",
       "      <th>0</th>\n",
       "      <td>Ancón</td>\n",
       "      <td>150102</td>\n",
       "      <td>299.22</td>\n",
       "      <td>29419</td>\n",
       "      <td>98.3</td>\n",
       "      <td>NaN</td>\n",
       "      <td>2</td>\n",
       "      <td>NaN</td>\n",
       "    </tr>\n",
       "    <tr>\n",
       "      <th>1</th>\n",
       "      <td>Ate</td>\n",
       "      <td>150103</td>\n",
       "      <td>77.72</td>\n",
       "      <td>419663</td>\n",
       "      <td>5399.7</td>\n",
       "      <td>NaN</td>\n",
       "      <td>3</td>\n",
       "      <td>NaN</td>\n",
       "    </tr>\n",
       "    <tr>\n",
       "      <th>2</th>\n",
       "      <td>Barranco</td>\n",
       "      <td>150104</td>\n",
       "      <td>3.33</td>\n",
       "      <td>45922</td>\n",
       "      <td>13790.4</td>\n",
       "      <td>NaN</td>\n",
       "      <td>4</td>\n",
       "      <td>NaN</td>\n",
       "    </tr>\n",
       "    <tr>\n",
       "      <th>3</th>\n",
       "      <td>Breña</td>\n",
       "      <td>150105</td>\n",
       "      <td>3.22</td>\n",
       "      <td>94808</td>\n",
       "      <td>29443.5</td>\n",
       "      <td>NaN</td>\n",
       "      <td>5</td>\n",
       "      <td>NaN</td>\n",
       "    </tr>\n",
       "    <tr>\n",
       "      <th>4</th>\n",
       "      <td>Carabayllo</td>\n",
       "      <td>150106</td>\n",
       "      <td>346.88</td>\n",
       "      <td>188764</td>\n",
       "      <td>544.2</td>\n",
       "      <td>NaN</td>\n",
       "      <td>6</td>\n",
       "      <td>NaN</td>\n",
       "    </tr>\n",
       "  </tbody>\n",
       "</table>\n",
       "</div>"
      ],
      "text/plain": [
       "    Districts  UBIGEO  Area(km²)  Population  Population density(/km²)  \\\n",
       "0       Ancón  150102     299.22       29419                      98.3   \n",
       "1         Ate  150103      77.72      419663                    5399.7   \n",
       "2    Barranco  150104       3.33       45922                   13790.4   \n",
       "3       Breña  150105       3.22       94808                   29443.5   \n",
       "4  Carabayllo  150106     346.88      188764                     544.2   \n",
       "\n",
       "   Created  Postalcode  Location  \n",
       "0      NaN           2       NaN  \n",
       "1      NaN           3       NaN  \n",
       "2      NaN           4       NaN  \n",
       "3      NaN           5       NaN  \n",
       "4      NaN           6       NaN  "
      ]
     },
     "execution_count": 4,
     "metadata": {},
     "output_type": "execute_result"
    }
   ],
   "source": [
    "df_dist.head()"
   ]
  },
  {
   "cell_type": "code",
   "execution_count": 5,
   "metadata": {},
   "outputs": [
    {
     "name": "stdout",
     "output_type": "stream",
     "text": [
      "<class 'pandas.core.frame.DataFrame'>\n",
      "RangeIndex: 43 entries, 0 to 42\n",
      "Data columns (total 8 columns):\n",
      " #   Column                    Non-Null Count  Dtype  \n",
      "---  ------                    --------------  -----  \n",
      " 0   Districts                 43 non-null     object \n",
      " 1   UBIGEO                    43 non-null     int64  \n",
      " 2   Area(km²)                 43 non-null     float64\n",
      " 3   Population                43 non-null     int64  \n",
      " 4   Population density(/km²)  43 non-null     float64\n",
      " 5   Created                   0 non-null      float64\n",
      " 6   Postalcode                43 non-null     int64  \n",
      " 7   Location                  0 non-null      float64\n",
      "dtypes: float64(4), int64(3), object(1)\n",
      "memory usage: 2.6+ KB\n"
     ]
    }
   ],
   "source": [
    "df_dist.info()"
   ]
  },
  {
   "cell_type": "markdown",
   "metadata": {},
   "source": [
    "### Latitude and Longitude of the districts in Lima"
   ]
  },
  {
   "cell_type": "markdown",
   "metadata": {},
   "source": [
    "This information can be retrieved with Python package Geocoder. This package can be very unreliable, and Google Maps API isn’t really an option since 2018. "
   ]
  },
  {
   "cell_type": "markdown",
   "metadata": {},
   "source": [
    "Because of that, we have a CSV file with the correct latitude and longitude of each district, in case the Python package doesn’t work."
   ]
  },
  {
   "cell_type": "code",
   "execution_count": 7,
   "metadata": {},
   "outputs": [
    {
     "data": {
      "text/html": [
       "<div>\n",
       "<style scoped>\n",
       "    .dataframe tbody tr th:only-of-type {\n",
       "        vertical-align: middle;\n",
       "    }\n",
       "\n",
       "    .dataframe tbody tr th {\n",
       "        vertical-align: top;\n",
       "    }\n",
       "\n",
       "    .dataframe thead th {\n",
       "        text-align: right;\n",
       "    }\n",
       "</style>\n",
       "<table border=\"1\" class=\"dataframe\">\n",
       "  <thead>\n",
       "    <tr style=\"text-align: right;\">\n",
       "      <th></th>\n",
       "      <th>PostalCode</th>\n",
       "      <th>Latitude</th>\n",
       "      <th>Longitude</th>\n",
       "    </tr>\n",
       "  </thead>\n",
       "  <tbody>\n",
       "    <tr>\n",
       "      <th>0</th>\n",
       "      <td>1</td>\n",
       "      <td>-12.0464</td>\n",
       "      <td>-77.0428</td>\n",
       "    </tr>\n",
       "    <tr>\n",
       "      <th>1</th>\n",
       "      <td>2</td>\n",
       "      <td>-11.7340</td>\n",
       "      <td>-77.1469</td>\n",
       "    </tr>\n",
       "    <tr>\n",
       "      <th>2</th>\n",
       "      <td>3</td>\n",
       "      <td>-12.0148</td>\n",
       "      <td>-76.8850</td>\n",
       "    </tr>\n",
       "    <tr>\n",
       "      <th>3</th>\n",
       "      <td>4</td>\n",
       "      <td>-12.1412</td>\n",
       "      <td>-77.0221</td>\n",
       "    </tr>\n",
       "    <tr>\n",
       "      <th>4</th>\n",
       "      <td>5</td>\n",
       "      <td>-12.0571</td>\n",
       "      <td>-77.0517</td>\n",
       "    </tr>\n",
       "  </tbody>\n",
       "</table>\n",
       "</div>"
      ],
      "text/plain": [
       "   PostalCode  Latitude  Longitude\n",
       "0           1  -12.0464   -77.0428\n",
       "1           2  -11.7340   -77.1469\n",
       "2           3  -12.0148   -76.8850\n",
       "3           4  -12.1412   -77.0221\n",
       "4           5  -12.0571   -77.0517"
      ]
     },
     "execution_count": 7,
     "metadata": {},
     "output_type": "execute_result"
    }
   ],
   "source": [
    "df_coords = pd.read_csv(\"data/Lima_Coords.csv\")\n",
    "df_coords.head()"
   ]
  },
  {
   "cell_type": "code",
   "execution_count": 8,
   "metadata": {},
   "outputs": [
    {
     "name": "stdout",
     "output_type": "stream",
     "text": [
      "<class 'pandas.core.frame.DataFrame'>\n",
      "RangeIndex: 43 entries, 0 to 42\n",
      "Data columns (total 3 columns):\n",
      " #   Column      Non-Null Count  Dtype  \n",
      "---  ------      --------------  -----  \n",
      " 0   PostalCode  43 non-null     int64  \n",
      " 1   Latitude    43 non-null     float64\n",
      " 2   Longitude   43 non-null     float64\n",
      "dtypes: float64(2), int64(1)\n",
      "memory usage: 1.1 KB\n"
     ]
    }
   ],
   "source": [
    "df_coords.info()"
   ]
  },
  {
   "cell_type": "markdown",
   "metadata": {},
   "source": [
    "### COVID-19 positive cases in Lima"
   ]
  },
  {
   "cell_type": "markdown",
   "metadata": {},
   "source": [
    "The government of Peru has the information open to everyone in their webpage: https://www.datosabiertos.gob.pe/dataset/casos-positivos-por-covid-19-ministerio-de-salud-minsa"
   ]
  },
  {
   "cell_type": "markdown",
   "metadata": {},
   "source": [
    "The dataset they provide is updated every day, and has the positive cases per department, province and district of Peru. The data link is this: https://cloud.minsa.gob.pe/s/Y8w3wHsEdYQSZRp/download"
   ]
  },
  {
   "cell_type": "code",
   "execution_count": 9,
   "metadata": {},
   "outputs": [
    {
     "data": {
      "text/html": [
       "<div>\n",
       "<style scoped>\n",
       "    .dataframe tbody tr th:only-of-type {\n",
       "        vertical-align: middle;\n",
       "    }\n",
       "\n",
       "    .dataframe tbody tr th {\n",
       "        vertical-align: top;\n",
       "    }\n",
       "\n",
       "    .dataframe thead th {\n",
       "        text-align: right;\n",
       "    }\n",
       "</style>\n",
       "<table border=\"1\" class=\"dataframe\">\n",
       "  <thead>\n",
       "    <tr style=\"text-align: right;\">\n",
       "      <th></th>\n",
       "      <th>DEPARTAMENTO</th>\n",
       "      <th>PROVINCIA</th>\n",
       "      <th>DISTRITO</th>\n",
       "    </tr>\n",
       "  </thead>\n",
       "  <tbody>\n",
       "    <tr>\n",
       "      <th>0</th>\n",
       "      <td>LIMA</td>\n",
       "      <td>LIMA</td>\n",
       "      <td>LA MOLINA</td>\n",
       "    </tr>\n",
       "    <tr>\n",
       "      <th>1</th>\n",
       "      <td>AREQUIPA</td>\n",
       "      <td>EN INVESTIGACIÓN</td>\n",
       "      <td>EN INVESTIGACIÓN</td>\n",
       "    </tr>\n",
       "    <tr>\n",
       "      <th>2</th>\n",
       "      <td>LIMA</td>\n",
       "      <td>LIMA</td>\n",
       "      <td>SANTIAGO DE SURCO</td>\n",
       "    </tr>\n",
       "    <tr>\n",
       "      <th>3</th>\n",
       "      <td>LIMA</td>\n",
       "      <td>LIMA</td>\n",
       "      <td>SANTIAGO DE SURCO</td>\n",
       "    </tr>\n",
       "    <tr>\n",
       "      <th>4</th>\n",
       "      <td>LIMA</td>\n",
       "      <td>LIMA</td>\n",
       "      <td>SANTIAGO DE SURCO</td>\n",
       "    </tr>\n",
       "  </tbody>\n",
       "</table>\n",
       "</div>"
      ],
      "text/plain": [
       "  DEPARTAMENTO         PROVINCIA           DISTRITO\n",
       "0         LIMA              LIMA          LA MOLINA\n",
       "1     AREQUIPA  EN INVESTIGACIÓN   EN INVESTIGACIÓN\n",
       "2         LIMA              LIMA  SANTIAGO DE SURCO\n",
       "3         LIMA              LIMA  SANTIAGO DE SURCO\n",
       "4         LIMA              LIMA  SANTIAGO DE SURCO"
      ]
     },
     "execution_count": 9,
     "metadata": {},
     "output_type": "execute_result"
    }
   ],
   "source": [
    "df_covid = pd.read_csv(\"https://cloud.minsa.gob.pe/s/Y8w3wHsEdYQSZRp/download\", usecols=['DEPARTAMENTO','PROVINCIA','DISTRITO'], encoding='latin-1')\n",
    "df_covid.head()"
   ]
  },
  {
   "cell_type": "code",
   "execution_count": 10,
   "metadata": {},
   "outputs": [
    {
     "name": "stdout",
     "output_type": "stream",
     "text": [
      "<class 'pandas.core.frame.DataFrame'>\n",
      "RangeIndex: 170039 entries, 0 to 170038\n",
      "Data columns (total 3 columns):\n",
      " #   Column        Non-Null Count   Dtype \n",
      "---  ------        --------------   ----- \n",
      " 0   DEPARTAMENTO  170039 non-null  object\n",
      " 1   PROVINCIA     170039 non-null  object\n",
      " 2   DISTRITO      170039 non-null  object\n",
      "dtypes: object(3)\n",
      "memory usage: 1.9+ MB\n"
     ]
    }
   ],
   "source": [
    "df_covid.info()"
   ]
  },
  {
   "cell_type": "markdown",
   "metadata": {},
   "source": [
    "### Hospitals in Lima per district"
   ]
  },
  {
   "cell_type": "markdown",
   "metadata": {},
   "source": [
    "To get this data, we are going to use Foursquare API. Using this API, we can make RESTful API calls to retrieve data about hospitals in different districts of Lima. To use it, we need a developer account active. Take into account that the account has a limited amount of normal and premium calls per day"
   ]
  },
  {
   "cell_type": "code",
   "execution_count": 74,
   "metadata": {},
   "outputs": [
    {
     "name": "stdout",
     "output_type": "stream",
     "text": [
      "Your credentails:\n",
      "CLIENT_ID: your Foursquare ID\n",
      "CLIENT_SECRET:your Foursquare Secret\n"
     ]
    }
   ],
   "source": [
    "CLIENT_ID = 'your Foursquare ID' # your Foursquare ID\n",
    "CLIENT_SECRET = 'your Foursquare Secret' # your Foursquare Secret\n",
    "VERSION = '20180605' # Foursquare API version\n",
    "\n",
    "print('Your credentails:')\n",
    "print('CLIENT_ID: ' + CLIENT_ID)\n",
    "print('CLIENT_SECRET:' + CLIENT_SECRET)"
   ]
  },
  {
   "cell_type": "markdown",
   "metadata": {},
   "source": [
    "To specifically check for Hospitals, we check the foursquare website: https://developer.foursquare.com/docs/build-with-foursquare/categories/"
   ]
  },
  {
   "cell_type": "markdown",
   "metadata": {},
   "source": [
    "The URL needed is the following: https://api.foursquare.com/v2/venues/explore?client_id={}&client_secret={}&v={}&ll={},{}&categoryId={}&radius={}&limit={}"
   ]
  },
  {
   "cell_type": "code",
   "execution_count": 24,
   "metadata": {},
   "outputs": [],
   "source": [
    "def getNearbyHospitals(postal, district, latitudes, longitudes, cases, radius=2500, LIMIT=100):\n",
    "    \n",
    "    Hospital_category = '4bf58dd8d48988d196941735' #You can get this from the foursquare website\n",
    "    \n",
    "    hosp_list=[]\n",
    "    for post, dist, lat, lng, case in zip(postal, district, latitudes, longitudes, cases):\n",
    "            \n",
    "        # create the API request URL\n",
    "        url = 'https://api.foursquare.com/v2/venues/explore?client_id={}&client_secret={}&v={}&ll={},{}&categoryId={}&radius={}&limit={}'.format(\n",
    "            CLIENT_ID, \n",
    "            CLIENT_SECRET, \n",
    "            VERSION, \n",
    "            lat, \n",
    "            lng,\n",
    "            Hospital_category,\n",
    "            radius,\n",
    "            LIMIT)\n",
    "            \n",
    "        # make the GET request\n",
    "        results = requests.get(url).json()[\"response\"]['groups'][0]['items']\n",
    "        \n",
    "        # return only relevant information for each nearby hospital\n",
    "        hosp_list.append([(\n",
    "            post,\n",
    "            dist,\n",
    "            lat, \n",
    "            lng,\n",
    "            case,\n",
    "            v['venue']['name'],\n",
    "            v['venue']['location']['lat'], \n",
    "            v['venue']['location']['lng'],\n",
    "            v['venue']['categories'][0]['name']) for v in results])\n",
    "\n",
    "    nearby_hospitals = pd.DataFrame([item for hosp_list in hosp_list for item in hosp_list])\n",
    "    return(nearby_hospitals)"
   ]
  },
  {
   "cell_type": "markdown",
   "metadata": {},
   "source": [
    "We are defining the function that will allow us to get the data. First we need to manipulate the data in order to pass the correct the data onto the function."
   ]
  },
  {
   "cell_type": "markdown",
   "metadata": {},
   "source": [
    "---"
   ]
  },
  {
   "cell_type": "markdown",
   "metadata": {},
   "source": [
    "## METHODOLOGY"
   ]
  },
  {
   "cell_type": "markdown",
   "metadata": {},
   "source": [
    "After retrieving the data, we need to start manipulating it to resolve the problem."
   ]
  },
  {
   "cell_type": "markdown",
   "metadata": {},
   "source": [
    "### Data Preparation"
   ]
  },
  {
   "cell_type": "markdown",
   "metadata": {},
   "source": [
    "We'll start first with the data from wikipedia. The steps are:"
   ]
  },
  {
   "cell_type": "markdown",
   "metadata": {},
   "source": [
    "* Keep columns \"Districts\", \"UBIGEO\" and \"Postalcode\"\n",
    "* Change column names\n",
    "* Change the only district \"Santa María del Mar District\" to the correct name.\n",
    "* Check data types"
   ]
  },
  {
   "cell_type": "code",
   "execution_count": 17,
   "metadata": {},
   "outputs": [
    {
     "data": {
      "text/html": [
       "<div>\n",
       "<style scoped>\n",
       "    .dataframe tbody tr th:only-of-type {\n",
       "        vertical-align: middle;\n",
       "    }\n",
       "\n",
       "    .dataframe tbody tr th {\n",
       "        vertical-align: top;\n",
       "    }\n",
       "\n",
       "    .dataframe thead th {\n",
       "        text-align: right;\n",
       "    }\n",
       "</style>\n",
       "<table border=\"1\" class=\"dataframe\">\n",
       "  <thead>\n",
       "    <tr style=\"text-align: right;\">\n",
       "      <th></th>\n",
       "      <th>District</th>\n",
       "      <th>UBIGEO</th>\n",
       "      <th>PostalCode</th>\n",
       "    </tr>\n",
       "  </thead>\n",
       "  <tbody>\n",
       "    <tr>\n",
       "      <th>0</th>\n",
       "      <td>Ancón</td>\n",
       "      <td>150102</td>\n",
       "      <td>2</td>\n",
       "    </tr>\n",
       "    <tr>\n",
       "      <th>1</th>\n",
       "      <td>Ate</td>\n",
       "      <td>150103</td>\n",
       "      <td>3</td>\n",
       "    </tr>\n",
       "    <tr>\n",
       "      <th>2</th>\n",
       "      <td>Barranco</td>\n",
       "      <td>150104</td>\n",
       "      <td>4</td>\n",
       "    </tr>\n",
       "    <tr>\n",
       "      <th>3</th>\n",
       "      <td>Breña</td>\n",
       "      <td>150105</td>\n",
       "      <td>5</td>\n",
       "    </tr>\n",
       "    <tr>\n",
       "      <th>4</th>\n",
       "      <td>Carabayllo</td>\n",
       "      <td>150106</td>\n",
       "      <td>6</td>\n",
       "    </tr>\n",
       "  </tbody>\n",
       "</table>\n",
       "</div>"
      ],
      "text/plain": [
       "     District  UBIGEO  PostalCode\n",
       "0       Ancón  150102           2\n",
       "1         Ate  150103           3\n",
       "2    Barranco  150104           4\n",
       "3       Breña  150105           5\n",
       "4  Carabayllo  150106           6"
      ]
     },
     "execution_count": 17,
     "metadata": {},
     "output_type": "execute_result"
    }
   ],
   "source": [
    "# Subset to get \"District, UBIGEO and Postalcode\"\n",
    "df_lima = df_dist.loc[:,('Districts','UBIGEO','Postalcode')]\n",
    "# Renaming columns\n",
    "df_lima.rename(columns={\"Districts\":\"District\",\"Postalcode\":'PostalCode'}, inplace=True)\n",
    "df_lima.head()"
   ]
  },
  {
   "cell_type": "code",
   "execution_count": 18,
   "metadata": {},
   "outputs": [
    {
     "data": {
      "text/html": [
       "<div>\n",
       "<style scoped>\n",
       "    .dataframe tbody tr th:only-of-type {\n",
       "        vertical-align: middle;\n",
       "    }\n",
       "\n",
       "    .dataframe tbody tr th {\n",
       "        vertical-align: top;\n",
       "    }\n",
       "\n",
       "    .dataframe thead th {\n",
       "        text-align: right;\n",
       "    }\n",
       "</style>\n",
       "<table border=\"1\" class=\"dataframe\">\n",
       "  <thead>\n",
       "    <tr style=\"text-align: right;\">\n",
       "      <th></th>\n",
       "      <th>District</th>\n",
       "      <th>UBIGEO</th>\n",
       "      <th>PostalCode</th>\n",
       "    </tr>\n",
       "  </thead>\n",
       "  <tbody>\n",
       "    <tr>\n",
       "      <th>0</th>\n",
       "      <td>Ancón</td>\n",
       "      <td>150102</td>\n",
       "      <td>2</td>\n",
       "    </tr>\n",
       "    <tr>\n",
       "      <th>1</th>\n",
       "      <td>Ate</td>\n",
       "      <td>150103</td>\n",
       "      <td>3</td>\n",
       "    </tr>\n",
       "    <tr>\n",
       "      <th>2</th>\n",
       "      <td>Barranco</td>\n",
       "      <td>150104</td>\n",
       "      <td>4</td>\n",
       "    </tr>\n",
       "    <tr>\n",
       "      <th>3</th>\n",
       "      <td>Breña</td>\n",
       "      <td>150105</td>\n",
       "      <td>5</td>\n",
       "    </tr>\n",
       "    <tr>\n",
       "      <th>4</th>\n",
       "      <td>Carabayllo</td>\n",
       "      <td>150106</td>\n",
       "      <td>6</td>\n",
       "    </tr>\n",
       "    <tr>\n",
       "      <th>5</th>\n",
       "      <td>Chaclacayo</td>\n",
       "      <td>150107</td>\n",
       "      <td>8</td>\n",
       "    </tr>\n",
       "    <tr>\n",
       "      <th>6</th>\n",
       "      <td>Chorrillos</td>\n",
       "      <td>150108</td>\n",
       "      <td>9</td>\n",
       "    </tr>\n",
       "    <tr>\n",
       "      <th>7</th>\n",
       "      <td>Cieneguilla</td>\n",
       "      <td>150109</td>\n",
       "      <td>40</td>\n",
       "    </tr>\n",
       "    <tr>\n",
       "      <th>8</th>\n",
       "      <td>Comas</td>\n",
       "      <td>150110</td>\n",
       "      <td>7</td>\n",
       "    </tr>\n",
       "    <tr>\n",
       "      <th>9</th>\n",
       "      <td>El Agustino</td>\n",
       "      <td>150111</td>\n",
       "      <td>10</td>\n",
       "    </tr>\n",
       "    <tr>\n",
       "      <th>10</th>\n",
       "      <td>Independencia</td>\n",
       "      <td>150112</td>\n",
       "      <td>28</td>\n",
       "    </tr>\n",
       "    <tr>\n",
       "      <th>11</th>\n",
       "      <td>Jesús María</td>\n",
       "      <td>150113</td>\n",
       "      <td>11</td>\n",
       "    </tr>\n",
       "    <tr>\n",
       "      <th>12</th>\n",
       "      <td>La Molina</td>\n",
       "      <td>150114</td>\n",
       "      <td>12</td>\n",
       "    </tr>\n",
       "    <tr>\n",
       "      <th>13</th>\n",
       "      <td>La Victoria</td>\n",
       "      <td>150115</td>\n",
       "      <td>13</td>\n",
       "    </tr>\n",
       "    <tr>\n",
       "      <th>14</th>\n",
       "      <td>Lima</td>\n",
       "      <td>150101</td>\n",
       "      <td>1</td>\n",
       "    </tr>\n",
       "    <tr>\n",
       "      <th>15</th>\n",
       "      <td>Lince</td>\n",
       "      <td>150116</td>\n",
       "      <td>14</td>\n",
       "    </tr>\n",
       "    <tr>\n",
       "      <th>16</th>\n",
       "      <td>Los Olivos</td>\n",
       "      <td>150117</td>\n",
       "      <td>39</td>\n",
       "    </tr>\n",
       "    <tr>\n",
       "      <th>17</th>\n",
       "      <td>Lurigancho</td>\n",
       "      <td>150118</td>\n",
       "      <td>15</td>\n",
       "    </tr>\n",
       "    <tr>\n",
       "      <th>18</th>\n",
       "      <td>Lurín</td>\n",
       "      <td>150119</td>\n",
       "      <td>16</td>\n",
       "    </tr>\n",
       "    <tr>\n",
       "      <th>19</th>\n",
       "      <td>Magdalena del Mar</td>\n",
       "      <td>150120</td>\n",
       "      <td>17</td>\n",
       "    </tr>\n",
       "    <tr>\n",
       "      <th>20</th>\n",
       "      <td>Miraflores</td>\n",
       "      <td>150122</td>\n",
       "      <td>18</td>\n",
       "    </tr>\n",
       "    <tr>\n",
       "      <th>21</th>\n",
       "      <td>Pachacamac</td>\n",
       "      <td>150123</td>\n",
       "      <td>19</td>\n",
       "    </tr>\n",
       "    <tr>\n",
       "      <th>22</th>\n",
       "      <td>Pucusana</td>\n",
       "      <td>150124</td>\n",
       "      <td>20</td>\n",
       "    </tr>\n",
       "    <tr>\n",
       "      <th>23</th>\n",
       "      <td>Pueblo Libre</td>\n",
       "      <td>150121</td>\n",
       "      <td>21</td>\n",
       "    </tr>\n",
       "    <tr>\n",
       "      <th>24</th>\n",
       "      <td>Puente Piedra</td>\n",
       "      <td>150125</td>\n",
       "      <td>22</td>\n",
       "    </tr>\n",
       "    <tr>\n",
       "      <th>25</th>\n",
       "      <td>Punta Hermosa</td>\n",
       "      <td>150126</td>\n",
       "      <td>24</td>\n",
       "    </tr>\n",
       "    <tr>\n",
       "      <th>26</th>\n",
       "      <td>Punta Negra</td>\n",
       "      <td>150127</td>\n",
       "      <td>23</td>\n",
       "    </tr>\n",
       "    <tr>\n",
       "      <th>27</th>\n",
       "      <td>Rímac</td>\n",
       "      <td>150128</td>\n",
       "      <td>25</td>\n",
       "    </tr>\n",
       "    <tr>\n",
       "      <th>28</th>\n",
       "      <td>San Bartolo</td>\n",
       "      <td>150129</td>\n",
       "      <td>26</td>\n",
       "    </tr>\n",
       "    <tr>\n",
       "      <th>29</th>\n",
       "      <td>San Borja</td>\n",
       "      <td>150130</td>\n",
       "      <td>41</td>\n",
       "    </tr>\n",
       "    <tr>\n",
       "      <th>30</th>\n",
       "      <td>San Isidro</td>\n",
       "      <td>150131</td>\n",
       "      <td>27</td>\n",
       "    </tr>\n",
       "    <tr>\n",
       "      <th>31</th>\n",
       "      <td>San Juan de Lurigancho</td>\n",
       "      <td>150132</td>\n",
       "      <td>36</td>\n",
       "    </tr>\n",
       "    <tr>\n",
       "      <th>32</th>\n",
       "      <td>San Juan de Miraflores</td>\n",
       "      <td>150133</td>\n",
       "      <td>29</td>\n",
       "    </tr>\n",
       "    <tr>\n",
       "      <th>33</th>\n",
       "      <td>San Luis</td>\n",
       "      <td>150134</td>\n",
       "      <td>30</td>\n",
       "    </tr>\n",
       "    <tr>\n",
       "      <th>34</th>\n",
       "      <td>San Martín de Porres</td>\n",
       "      <td>150135</td>\n",
       "      <td>31</td>\n",
       "    </tr>\n",
       "    <tr>\n",
       "      <th>35</th>\n",
       "      <td>San Miguel</td>\n",
       "      <td>150136</td>\n",
       "      <td>32</td>\n",
       "    </tr>\n",
       "    <tr>\n",
       "      <th>36</th>\n",
       "      <td>Santa Anita</td>\n",
       "      <td>150137</td>\n",
       "      <td>43</td>\n",
       "    </tr>\n",
       "    <tr>\n",
       "      <th>37</th>\n",
       "      <td>Santa María del Mar</td>\n",
       "      <td>150138</td>\n",
       "      <td>37</td>\n",
       "    </tr>\n",
       "    <tr>\n",
       "      <th>38</th>\n",
       "      <td>Santa Rosa</td>\n",
       "      <td>150139</td>\n",
       "      <td>38</td>\n",
       "    </tr>\n",
       "    <tr>\n",
       "      <th>39</th>\n",
       "      <td>Santiago de Surco</td>\n",
       "      <td>150140</td>\n",
       "      <td>33</td>\n",
       "    </tr>\n",
       "    <tr>\n",
       "      <th>40</th>\n",
       "      <td>Surquillo</td>\n",
       "      <td>150141</td>\n",
       "      <td>34</td>\n",
       "    </tr>\n",
       "    <tr>\n",
       "      <th>41</th>\n",
       "      <td>Villa El Salvador</td>\n",
       "      <td>150142</td>\n",
       "      <td>42</td>\n",
       "    </tr>\n",
       "    <tr>\n",
       "      <th>42</th>\n",
       "      <td>Villa María del Triunfo</td>\n",
       "      <td>150143</td>\n",
       "      <td>35</td>\n",
       "    </tr>\n",
       "  </tbody>\n",
       "</table>\n",
       "</div>"
      ],
      "text/plain": [
       "                   District  UBIGEO  PostalCode\n",
       "0                     Ancón  150102           2\n",
       "1                       Ate  150103           3\n",
       "2                  Barranco  150104           4\n",
       "3                     Breña  150105           5\n",
       "4                Carabayllo  150106           6\n",
       "5                Chaclacayo  150107           8\n",
       "6                Chorrillos  150108           9\n",
       "7               Cieneguilla  150109          40\n",
       "8                     Comas  150110           7\n",
       "9               El Agustino  150111          10\n",
       "10            Independencia  150112          28\n",
       "11              Jesús María  150113          11\n",
       "12                La Molina  150114          12\n",
       "13              La Victoria  150115          13\n",
       "14                     Lima  150101           1\n",
       "15                    Lince  150116          14\n",
       "16               Los Olivos  150117          39\n",
       "17               Lurigancho  150118          15\n",
       "18                    Lurín  150119          16\n",
       "19        Magdalena del Mar  150120          17\n",
       "20               Miraflores  150122          18\n",
       "21               Pachacamac  150123          19\n",
       "22                 Pucusana  150124          20\n",
       "23             Pueblo Libre  150121          21\n",
       "24            Puente Piedra  150125          22\n",
       "25            Punta Hermosa  150126          24\n",
       "26              Punta Negra  150127          23\n",
       "27                    Rímac  150128          25\n",
       "28              San Bartolo  150129          26\n",
       "29                San Borja  150130          41\n",
       "30               San Isidro  150131          27\n",
       "31   San Juan de Lurigancho  150132          36\n",
       "32   San Juan de Miraflores  150133          29\n",
       "33                 San Luis  150134          30\n",
       "34     San Martín de Porres  150135          31\n",
       "35               San Miguel  150136          32\n",
       "36              Santa Anita  150137          43\n",
       "37      Santa María del Mar  150138          37\n",
       "38               Santa Rosa  150139          38\n",
       "39        Santiago de Surco  150140          33\n",
       "40                Surquillo  150141          34\n",
       "41        Villa El Salvador  150142          42\n",
       "42  Villa María del Triunfo  150143          35"
      ]
     },
     "execution_count": 18,
     "metadata": {},
     "output_type": "execute_result"
    }
   ],
   "source": [
    "# Change the only wrong district name\n",
    "new_val = {'Santa María del Mar District': 'Santa María del Mar'}\n",
    "df_lima['District'].replace(new_val,inplace = True)\n",
    "df_lima"
   ]
  },
  {
   "cell_type": "code",
   "execution_count": 19,
   "metadata": {},
   "outputs": [
    {
     "name": "stdout",
     "output_type": "stream",
     "text": [
      "<class 'pandas.core.frame.DataFrame'>\n",
      "RangeIndex: 43 entries, 0 to 42\n",
      "Data columns (total 3 columns):\n",
      " #   Column      Non-Null Count  Dtype \n",
      "---  ------      --------------  ----- \n",
      " 0   District    43 non-null     object\n",
      " 1   UBIGEO      43 non-null     int64 \n",
      " 2   PostalCode  43 non-null     int64 \n",
      "dtypes: int64(2), object(1)\n",
      "memory usage: 924.0+ bytes\n"
     ]
    }
   ],
   "source": [
    "# Check data types\n",
    "df_lima.info()"
   ]
  },
  {
   "cell_type": "markdown",
   "metadata": {},
   "source": [
    "Now that we have our dataframe \"df_lima\" with the districts from Lima, we need to merge to have the columns \"Latitude\" and \"Longitude\". The steps are:"
   ]
  },
  {
   "cell_type": "markdown",
   "metadata": {},
   "source": [
    "* Merge the district dataframe with the coordinates dataframe\n",
    "* Check everything went smoothly"
   ]
  },
  {
   "cell_type": "code",
   "execution_count": 20,
   "metadata": {},
   "outputs": [
    {
     "data": {
      "text/html": [
       "<div>\n",
       "<style scoped>\n",
       "    .dataframe tbody tr th:only-of-type {\n",
       "        vertical-align: middle;\n",
       "    }\n",
       "\n",
       "    .dataframe tbody tr th {\n",
       "        vertical-align: top;\n",
       "    }\n",
       "\n",
       "    .dataframe thead th {\n",
       "        text-align: right;\n",
       "    }\n",
       "</style>\n",
       "<table border=\"1\" class=\"dataframe\">\n",
       "  <thead>\n",
       "    <tr style=\"text-align: right;\">\n",
       "      <th></th>\n",
       "      <th>District</th>\n",
       "      <th>UBIGEO</th>\n",
       "      <th>PostalCode</th>\n",
       "      <th>Latitude</th>\n",
       "      <th>Longitude</th>\n",
       "    </tr>\n",
       "  </thead>\n",
       "  <tbody>\n",
       "    <tr>\n",
       "      <th>0</th>\n",
       "      <td>Ancón</td>\n",
       "      <td>150102</td>\n",
       "      <td>2</td>\n",
       "      <td>-11.7340</td>\n",
       "      <td>-77.1469</td>\n",
       "    </tr>\n",
       "    <tr>\n",
       "      <th>1</th>\n",
       "      <td>Ate</td>\n",
       "      <td>150103</td>\n",
       "      <td>3</td>\n",
       "      <td>-12.0148</td>\n",
       "      <td>-76.8850</td>\n",
       "    </tr>\n",
       "    <tr>\n",
       "      <th>2</th>\n",
       "      <td>Barranco</td>\n",
       "      <td>150104</td>\n",
       "      <td>4</td>\n",
       "      <td>-12.1412</td>\n",
       "      <td>-77.0221</td>\n",
       "    </tr>\n",
       "    <tr>\n",
       "      <th>3</th>\n",
       "      <td>Breña</td>\n",
       "      <td>150105</td>\n",
       "      <td>5</td>\n",
       "      <td>-12.0571</td>\n",
       "      <td>-77.0517</td>\n",
       "    </tr>\n",
       "    <tr>\n",
       "      <th>4</th>\n",
       "      <td>Carabayllo</td>\n",
       "      <td>150106</td>\n",
       "      <td>6</td>\n",
       "      <td>-11.8819</td>\n",
       "      <td>-77.0234</td>\n",
       "    </tr>\n",
       "  </tbody>\n",
       "</table>\n",
       "</div>"
      ],
      "text/plain": [
       "     District  UBIGEO  PostalCode  Latitude  Longitude\n",
       "0       Ancón  150102           2  -11.7340   -77.1469\n",
       "1         Ate  150103           3  -12.0148   -76.8850\n",
       "2    Barranco  150104           4  -12.1412   -77.0221\n",
       "3       Breña  150105           5  -12.0571   -77.0517\n",
       "4  Carabayllo  150106           6  -11.8819   -77.0234"
      ]
     },
     "execution_count": 20,
     "metadata": {},
     "output_type": "execute_result"
    }
   ],
   "source": [
    "# Creating a new dataframe with the merge\n",
    "df_limacoords = pd.merge(df_lima, df_coords, on='PostalCode')\n",
    "df_limacoords.head()"
   ]
  },
  {
   "cell_type": "markdown",
   "metadata": {},
   "source": [
    "Now we have a complete dataframe with the coordinates for each district in Lima. The next phase is to add the data for COVID-19 positive cases per district. The steps are:"
   ]
  },
  {
   "cell_type": "markdown",
   "metadata": {},
   "source": [
    "* Subset the dataframe for 'DEPARTAMENTO' == 'LIMA' and 'PROVINCIA' == 'Lima'. This will give us the 43 districts of Lima.\n",
    "* Drop the columns 'DEPARTAMENTO' and 'PROVINCIA'\n",
    "* Count the districts to get the number of COVID-19 positive cases per District\n",
    "* Rename the columns\n",
    "* Sort the values to easily concat the data with the first dataframe\n",
    "* Concat to the desired dataframe\n",
    "* Drop the column \"Districts\""
   ]
  },
  {
   "cell_type": "code",
   "execution_count": 21,
   "metadata": {},
   "outputs": [
    {
     "data": {
      "text/html": [
       "<div>\n",
       "<style scoped>\n",
       "    .dataframe tbody tr th:only-of-type {\n",
       "        vertical-align: middle;\n",
       "    }\n",
       "\n",
       "    .dataframe tbody tr th {\n",
       "        vertical-align: top;\n",
       "    }\n",
       "\n",
       "    .dataframe thead th {\n",
       "        text-align: right;\n",
       "    }\n",
       "</style>\n",
       "<table border=\"1\" class=\"dataframe\">\n",
       "  <thead>\n",
       "    <tr style=\"text-align: right;\">\n",
       "      <th></th>\n",
       "      <th>DISTRITO</th>\n",
       "    </tr>\n",
       "  </thead>\n",
       "  <tbody>\n",
       "    <tr>\n",
       "      <th>0</th>\n",
       "      <td>LA MOLINA</td>\n",
       "    </tr>\n",
       "    <tr>\n",
       "      <th>2</th>\n",
       "      <td>SANTIAGO DE SURCO</td>\n",
       "    </tr>\n",
       "    <tr>\n",
       "      <th>3</th>\n",
       "      <td>SANTIAGO DE SURCO</td>\n",
       "    </tr>\n",
       "    <tr>\n",
       "      <th>4</th>\n",
       "      <td>SANTIAGO DE SURCO</td>\n",
       "    </tr>\n",
       "    <tr>\n",
       "      <th>5</th>\n",
       "      <td>SANTIAGO DE SURCO</td>\n",
       "    </tr>\n",
       "  </tbody>\n",
       "</table>\n",
       "</div>"
      ],
      "text/plain": [
       "            DISTRITO\n",
       "0          LA MOLINA\n",
       "2  SANTIAGO DE SURCO\n",
       "3  SANTIAGO DE SURCO\n",
       "4  SANTIAGO DE SURCO\n",
       "5  SANTIAGO DE SURCO"
      ]
     },
     "execution_count": 21,
     "metadata": {},
     "output_type": "execute_result"
    }
   ],
   "source": [
    "# Subset dataframe based on condition\n",
    "df_covid = df_covid.loc[(df_covid['DEPARTAMENTO']=='LIMA') & (df_covid['PROVINCIA'] == 'LIMA')]\n",
    "# Dropping unneeded columns\n",
    "df_covid.drop(['DEPARTAMENTO','PROVINCIA'], inplace = True, axis = 1)\n",
    "df_covid.head()"
   ]
  },
  {
   "cell_type": "code",
   "execution_count": 22,
   "metadata": {},
   "outputs": [
    {
     "data": {
      "text/html": [
       "<div>\n",
       "<style scoped>\n",
       "    .dataframe tbody tr th:only-of-type {\n",
       "        vertical-align: middle;\n",
       "    }\n",
       "\n",
       "    .dataframe tbody tr th {\n",
       "        vertical-align: top;\n",
       "    }\n",
       "\n",
       "    .dataframe thead th {\n",
       "        text-align: right;\n",
       "    }\n",
       "</style>\n",
       "<table border=\"1\" class=\"dataframe\">\n",
       "  <thead>\n",
       "    <tr style=\"text-align: right;\">\n",
       "      <th></th>\n",
       "      <th>Districts</th>\n",
       "      <th>PositiveCases</th>\n",
       "    </tr>\n",
       "  </thead>\n",
       "  <tbody>\n",
       "    <tr>\n",
       "      <th>0</th>\n",
       "      <td>ANCON</td>\n",
       "      <td>328</td>\n",
       "    </tr>\n",
       "    <tr>\n",
       "      <th>1</th>\n",
       "      <td>ATE</td>\n",
       "      <td>5601</td>\n",
       "    </tr>\n",
       "    <tr>\n",
       "      <th>2</th>\n",
       "      <td>BARRANCO</td>\n",
       "      <td>441</td>\n",
       "    </tr>\n",
       "    <tr>\n",
       "      <th>3</th>\n",
       "      <td>BREÑA</td>\n",
       "      <td>1196</td>\n",
       "    </tr>\n",
       "    <tr>\n",
       "      <th>4</th>\n",
       "      <td>CARABAYLLO</td>\n",
       "      <td>2036</td>\n",
       "    </tr>\n",
       "  </tbody>\n",
       "</table>\n",
       "</div>"
      ],
      "text/plain": [
       "    Districts  PositiveCases\n",
       "0       ANCON            328\n",
       "1         ATE           5601\n",
       "2    BARRANCO            441\n",
       "3       BREÑA           1196\n",
       "4  CARABAYLLO           2036"
      ]
     },
     "execution_count": 22,
     "metadata": {},
     "output_type": "execute_result"
    }
   ],
   "source": [
    "# Group by to count the cases\n",
    "df_covid = df_covid.groupby(['DISTRITO']).size().reset_index(name='PositiveCases')\n",
    "# Renaming the column\n",
    "df_covid.rename(columns = {'DISTRITO':'Districts'}, inplace = True)\n",
    "# Sorting the values\n",
    "df_covid.sort_values(by=['Districts'], inplace=True)\n",
    "\n",
    "df_covid.head()"
   ]
  },
  {
   "cell_type": "code",
   "execution_count": 23,
   "metadata": {},
   "outputs": [
    {
     "data": {
      "text/html": [
       "<div>\n",
       "<style scoped>\n",
       "    .dataframe tbody tr th:only-of-type {\n",
       "        vertical-align: middle;\n",
       "    }\n",
       "\n",
       "    .dataframe tbody tr th {\n",
       "        vertical-align: top;\n",
       "    }\n",
       "\n",
       "    .dataframe thead th {\n",
       "        text-align: right;\n",
       "    }\n",
       "</style>\n",
       "<table border=\"1\" class=\"dataframe\">\n",
       "  <thead>\n",
       "    <tr style=\"text-align: right;\">\n",
       "      <th></th>\n",
       "      <th>District</th>\n",
       "      <th>UBIGEO</th>\n",
       "      <th>PostalCode</th>\n",
       "      <th>Latitude</th>\n",
       "      <th>Longitude</th>\n",
       "      <th>PositiveCases</th>\n",
       "    </tr>\n",
       "  </thead>\n",
       "  <tbody>\n",
       "    <tr>\n",
       "      <th>0</th>\n",
       "      <td>Ancón</td>\n",
       "      <td>150102</td>\n",
       "      <td>2</td>\n",
       "      <td>-11.7340</td>\n",
       "      <td>-77.1469</td>\n",
       "      <td>328</td>\n",
       "    </tr>\n",
       "    <tr>\n",
       "      <th>1</th>\n",
       "      <td>Ate</td>\n",
       "      <td>150103</td>\n",
       "      <td>3</td>\n",
       "      <td>-12.0148</td>\n",
       "      <td>-76.8850</td>\n",
       "      <td>5601</td>\n",
       "    </tr>\n",
       "    <tr>\n",
       "      <th>2</th>\n",
       "      <td>Barranco</td>\n",
       "      <td>150104</td>\n",
       "      <td>4</td>\n",
       "      <td>-12.1412</td>\n",
       "      <td>-77.0221</td>\n",
       "      <td>441</td>\n",
       "    </tr>\n",
       "    <tr>\n",
       "      <th>3</th>\n",
       "      <td>Breña</td>\n",
       "      <td>150105</td>\n",
       "      <td>5</td>\n",
       "      <td>-12.0571</td>\n",
       "      <td>-77.0517</td>\n",
       "      <td>1196</td>\n",
       "    </tr>\n",
       "    <tr>\n",
       "      <th>4</th>\n",
       "      <td>Carabayllo</td>\n",
       "      <td>150106</td>\n",
       "      <td>6</td>\n",
       "      <td>-11.8819</td>\n",
       "      <td>-77.0234</td>\n",
       "      <td>2036</td>\n",
       "    </tr>\n",
       "  </tbody>\n",
       "</table>\n",
       "</div>"
      ],
      "text/plain": [
       "     District  UBIGEO  PostalCode  Latitude  Longitude  PositiveCases\n",
       "0       Ancón  150102           2  -11.7340   -77.1469            328\n",
       "1         Ate  150103           3  -12.0148   -76.8850           5601\n",
       "2    Barranco  150104           4  -12.1412   -77.0221            441\n",
       "3       Breña  150105           5  -12.0571   -77.0517           1196\n",
       "4  Carabayllo  150106           6  -11.8819   -77.0234           2036"
      ]
     },
     "execution_count": 23,
     "metadata": {},
     "output_type": "execute_result"
    }
   ],
   "source": [
    "# Concat the dataframes\n",
    "df_final = pd.concat([df_limacoords, df_covid], axis=1)\n",
    "# Drop the column \"Districts\"\n",
    "df_final.drop(df_final.columns[5], axis=1, inplace=True)\n",
    "\n",
    "df_final.head()"
   ]
  },
  {
   "cell_type": "markdown",
   "metadata": {},
   "source": [
    "Great! We have an almost completed dataframe. The next thing missing is the hospitals data. To get it, we are going to use the **Foursquare API**. In the **Data Chapter**, we setup a function to get this data. The steps are:"
   ]
  },
  {
   "cell_type": "markdown",
   "metadata": {},
   "source": [
    "* Call the function and save it in a dataframe\n",
    "* Check for duplicate hospitals in the dataframe\n",
    "* Check for wrong names in the dataframe\n",
    "* Check that the hospitals belong to the respective district\n",
    "* Check that the hospitals retrieved are actually hospitals\n",
    "* Check that the hospitals have specializations in regards to COVID-19\n",
    "* Finally, rename the columns"
   ]
  },
  {
   "cell_type": "markdown",
   "metadata": {},
   "source": [
    "The process to check all of this takes a long time."
   ]
  },
  {
   "cell_type": "code",
   "execution_count": 26,
   "metadata": {},
   "outputs": [
    {
     "name": "stdout",
     "output_type": "stream",
     "text": [
      "(448, 9)\n"
     ]
    },
    {
     "data": {
      "text/html": [
       "<div>\n",
       "<style scoped>\n",
       "    .dataframe tbody tr th:only-of-type {\n",
       "        vertical-align: middle;\n",
       "    }\n",
       "\n",
       "    .dataframe tbody tr th {\n",
       "        vertical-align: top;\n",
       "    }\n",
       "\n",
       "    .dataframe thead th {\n",
       "        text-align: right;\n",
       "    }\n",
       "</style>\n",
       "<table border=\"1\" class=\"dataframe\">\n",
       "  <thead>\n",
       "    <tr style=\"text-align: right;\">\n",
       "      <th></th>\n",
       "      <th>0</th>\n",
       "      <th>1</th>\n",
       "      <th>2</th>\n",
       "      <th>3</th>\n",
       "      <th>4</th>\n",
       "      <th>5</th>\n",
       "      <th>6</th>\n",
       "      <th>7</th>\n",
       "      <th>8</th>\n",
       "    </tr>\n",
       "  </thead>\n",
       "  <tbody>\n",
       "    <tr>\n",
       "      <th>0</th>\n",
       "      <td>3</td>\n",
       "      <td>Ate</td>\n",
       "      <td>-12.0148</td>\n",
       "      <td>-76.8850</td>\n",
       "      <td>5601</td>\n",
       "      <td>3B SALUD E.I.R.L.</td>\n",
       "      <td>-12.012660</td>\n",
       "      <td>-76.877576</td>\n",
       "      <td>Hospital</td>\n",
       "    </tr>\n",
       "    <tr>\n",
       "      <th>1</th>\n",
       "      <td>4</td>\n",
       "      <td>Barranco</td>\n",
       "      <td>-12.1412</td>\n",
       "      <td>-77.0221</td>\n",
       "      <td>441</td>\n",
       "      <td>EsSalud</td>\n",
       "      <td>-12.147275</td>\n",
       "      <td>-77.018664</td>\n",
       "      <td>Hospital</td>\n",
       "    </tr>\n",
       "    <tr>\n",
       "      <th>2</th>\n",
       "      <td>4</td>\n",
       "      <td>Barranco</td>\n",
       "      <td>-12.1412</td>\n",
       "      <td>-77.0221</td>\n",
       "      <td>441</td>\n",
       "      <td>Instituto Neuro Cardiovascular de las Américas...</td>\n",
       "      <td>-12.130236</td>\n",
       "      <td>-77.019267</td>\n",
       "      <td>Hospital</td>\n",
       "    </tr>\n",
       "    <tr>\n",
       "      <th>3</th>\n",
       "      <td>4</td>\n",
       "      <td>Barranco</td>\n",
       "      <td>-12.1412</td>\n",
       "      <td>-77.0221</td>\n",
       "      <td>441</td>\n",
       "      <td>Hospital de Emergencias José Casimiro Ulloa</td>\n",
       "      <td>-12.127918</td>\n",
       "      <td>-77.018019</td>\n",
       "      <td>Hospital</td>\n",
       "    </tr>\n",
       "    <tr>\n",
       "      <th>4</th>\n",
       "      <td>4</td>\n",
       "      <td>Barranco</td>\n",
       "      <td>-12.1412</td>\n",
       "      <td>-77.0221</td>\n",
       "      <td>441</td>\n",
       "      <td>Clínica Caravedo</td>\n",
       "      <td>-12.155737</td>\n",
       "      <td>-77.021910</td>\n",
       "      <td>Hospital</td>\n",
       "    </tr>\n",
       "  </tbody>\n",
       "</table>\n",
       "</div>"
      ],
      "text/plain": [
       "   0         1        2        3     4  \\\n",
       "0  3       Ate -12.0148 -76.8850  5601   \n",
       "1  4  Barranco -12.1412 -77.0221   441   \n",
       "2  4  Barranco -12.1412 -77.0221   441   \n",
       "3  4  Barranco -12.1412 -77.0221   441   \n",
       "4  4  Barranco -12.1412 -77.0221   441   \n",
       "\n",
       "                                                   5          6          7  \\\n",
       "0                                  3B SALUD E.I.R.L. -12.012660 -76.877576   \n",
       "1                                            EsSalud -12.147275 -77.018664   \n",
       "2  Instituto Neuro Cardiovascular de las Américas... -12.130236 -77.019267   \n",
       "3        Hospital de Emergencias José Casimiro Ulloa -12.127918 -77.018019   \n",
       "4                                   Clínica Caravedo -12.155737 -77.021910   \n",
       "\n",
       "          8  \n",
       "0  Hospital  \n",
       "1  Hospital  \n",
       "2  Hospital  \n",
       "3  Hospital  \n",
       "4  Hospital  "
      ]
     },
     "execution_count": 26,
     "metadata": {},
     "output_type": "execute_result"
    }
   ],
   "source": [
    "# Calling the function and saving the data\n",
    "lima_hospitals = getNearbyHospitals(postal=df_final['PostalCode'],\n",
    "                                    district=df_final['District'],\n",
    "                                    latitudes=df_final['Latitude'],\n",
    "                                    longitudes=df_final['Longitude'],\n",
    "                                    cases=df_final['PositiveCases'])\n",
    "print(lima_hospitals.shape)\n",
    "lima_hospitals.head()"
   ]
  },
  {
   "cell_type": "code",
   "execution_count": 28,
   "metadata": {},
   "outputs": [],
   "source": [
    "# Dataframe with all duplicate values\n",
    "lima_hospitals_dups = lima_hospitals[lima_hospitals.duplicated([5], keep=False)].sort_values(by=[5])"
   ]
  },
  {
   "cell_type": "code",
   "execution_count": 30,
   "metadata": {},
   "outputs": [
    {
     "data": {
      "text/html": [
       "<div>\n",
       "<style scoped>\n",
       "    .dataframe tbody tr th:only-of-type {\n",
       "        vertical-align: middle;\n",
       "    }\n",
       "\n",
       "    .dataframe tbody tr th {\n",
       "        vertical-align: top;\n",
       "    }\n",
       "\n",
       "    .dataframe thead th {\n",
       "        text-align: right;\n",
       "    }\n",
       "</style>\n",
       "<table border=\"1\" class=\"dataframe\">\n",
       "  <thead>\n",
       "    <tr style=\"text-align: right;\">\n",
       "      <th></th>\n",
       "      <th>0</th>\n",
       "      <th>1</th>\n",
       "      <th>2</th>\n",
       "      <th>3</th>\n",
       "      <th>4</th>\n",
       "      <th>5</th>\n",
       "      <th>6</th>\n",
       "      <th>7</th>\n",
       "      <th>8</th>\n",
       "    </tr>\n",
       "  </thead>\n",
       "  <tbody>\n",
       "    <tr>\n",
       "      <th>365</th>\n",
       "      <td>27</td>\n",
       "      <td>San Isidro</td>\n",
       "      <td>-12.0998</td>\n",
       "      <td>-77.0363</td>\n",
       "      <td>898</td>\n",
       "      <td>12C Infectología</td>\n",
       "      <td>-12.078357</td>\n",
       "      <td>-77.040320</td>\n",
       "      <td>Hospital Ward</td>\n",
       "    </tr>\n",
       "    <tr>\n",
       "      <th>210</th>\n",
       "      <td>14</td>\n",
       "      <td>Lince</td>\n",
       "      <td>-12.0848</td>\n",
       "      <td>-77.0356</td>\n",
       "      <td>709</td>\n",
       "      <td>12C Infectología</td>\n",
       "      <td>-12.078357</td>\n",
       "      <td>-77.040320</td>\n",
       "      <td>Hospital Ward</td>\n",
       "    </tr>\n",
       "    <tr>\n",
       "      <th>116</th>\n",
       "      <td>11</td>\n",
       "      <td>Jesús María</td>\n",
       "      <td>-12.0825</td>\n",
       "      <td>-77.0506</td>\n",
       "      <td>3047</td>\n",
       "      <td>12C Infectología</td>\n",
       "      <td>-12.078357</td>\n",
       "      <td>-77.040320</td>\n",
       "      <td>Hospital Ward</td>\n",
       "    </tr>\n",
       "    <tr>\n",
       "      <th>355</th>\n",
       "      <td>27</td>\n",
       "      <td>San Isidro</td>\n",
       "      <td>-12.0998</td>\n",
       "      <td>-77.0363</td>\n",
       "      <td>898</td>\n",
       "      <td>Banco De Sangre - Hospital Nacional Edgardo Re...</td>\n",
       "      <td>-12.079133</td>\n",
       "      <td>-77.041578</td>\n",
       "      <td>Hospital</td>\n",
       "    </tr>\n",
       "    <tr>\n",
       "      <th>85</th>\n",
       "      <td>11</td>\n",
       "      <td>Jesús María</td>\n",
       "      <td>-12.0825</td>\n",
       "      <td>-77.0506</td>\n",
       "      <td>3047</td>\n",
       "      <td>Banco De Sangre - Hospital Nacional Edgardo Re...</td>\n",
       "      <td>-12.079133</td>\n",
       "      <td>-77.041578</td>\n",
       "      <td>Hospital</td>\n",
       "    </tr>\n",
       "    <tr>\n",
       "      <th>189</th>\n",
       "      <td>14</td>\n",
       "      <td>Lince</td>\n",
       "      <td>-12.0848</td>\n",
       "      <td>-77.0356</td>\n",
       "      <td>709</td>\n",
       "      <td>Banco De Sangre - Hospital Nacional Edgardo Re...</td>\n",
       "      <td>-12.079133</td>\n",
       "      <td>-77.041578</td>\n",
       "      <td>Hospital</td>\n",
       "    </tr>\n",
       "    <tr>\n",
       "      <th>250</th>\n",
       "      <td>18</td>\n",
       "      <td>Miraflores</td>\n",
       "      <td>-12.1111</td>\n",
       "      <td>-77.0316</td>\n",
       "      <td>1211</td>\n",
       "      <td>Centro Medico Naval (CEMENA)</td>\n",
       "      <td>-12.121735</td>\n",
       "      <td>-77.034348</td>\n",
       "      <td>Hospital</td>\n",
       "    </tr>\n",
       "    <tr>\n",
       "      <th>359</th>\n",
       "      <td>27</td>\n",
       "      <td>San Isidro</td>\n",
       "      <td>-12.0998</td>\n",
       "      <td>-77.0363</td>\n",
       "      <td>898</td>\n",
       "      <td>Centro Medico Naval (CEMENA)</td>\n",
       "      <td>-12.121735</td>\n",
       "      <td>-77.034348</td>\n",
       "      <td>Hospital</td>\n",
       "    </tr>\n",
       "    <tr>\n",
       "      <th>92</th>\n",
       "      <td>11</td>\n",
       "      <td>Jesús María</td>\n",
       "      <td>-12.0825</td>\n",
       "      <td>-77.0506</td>\n",
       "      <td>3047</td>\n",
       "      <td>Centro Quirúrgico</td>\n",
       "      <td>-12.078664</td>\n",
       "      <td>-77.039437</td>\n",
       "      <td>Hospital</td>\n",
       "    </tr>\n",
       "    <tr>\n",
       "      <th>187</th>\n",
       "      <td>14</td>\n",
       "      <td>Lince</td>\n",
       "      <td>-12.0848</td>\n",
       "      <td>-77.0356</td>\n",
       "      <td>709</td>\n",
       "      <td>Centro Quirúrgico</td>\n",
       "      <td>-12.078664</td>\n",
       "      <td>-77.039437</td>\n",
       "      <td>Hospital</td>\n",
       "    </tr>\n",
       "    <tr>\n",
       "      <th>356</th>\n",
       "      <td>27</td>\n",
       "      <td>San Isidro</td>\n",
       "      <td>-12.0998</td>\n",
       "      <td>-77.0363</td>\n",
       "      <td>898</td>\n",
       "      <td>Centro Quirúrgico</td>\n",
       "      <td>-12.078664</td>\n",
       "      <td>-77.039437</td>\n",
       "      <td>Hospital</td>\n",
       "    </tr>\n",
       "    <tr>\n",
       "      <th>138</th>\n",
       "      <td>13</td>\n",
       "      <td>La Victoria</td>\n",
       "      <td>-12.0734</td>\n",
       "      <td>-77.0163</td>\n",
       "      <td>4090</td>\n",
       "      <td>Centro de Salud Max Arias</td>\n",
       "      <td>-12.061502</td>\n",
       "      <td>-77.032122</td>\n",
       "      <td>Hospital</td>\n",
       "    </tr>\n",
       "    <tr>\n",
       "      <th>32</th>\n",
       "      <td>5</td>\n",
       "      <td>Breña</td>\n",
       "      <td>-12.0571</td>\n",
       "      <td>-77.0517</td>\n",
       "      <td>1196</td>\n",
       "      <td>Centro de Salud Max Arias</td>\n",
       "      <td>-12.061502</td>\n",
       "      <td>-77.032122</td>\n",
       "      <td>Hospital</td>\n",
       "    </tr>\n",
       "    <tr>\n",
       "      <th>166</th>\n",
       "      <td>1</td>\n",
       "      <td>Lima</td>\n",
       "      <td>-12.0464</td>\n",
       "      <td>-77.0428</td>\n",
       "      <td>8960</td>\n",
       "      <td>Centro de Salud Max Arias</td>\n",
       "      <td>-12.061502</td>\n",
       "      <td>-77.032122</td>\n",
       "      <td>Hospital</td>\n",
       "    </tr>\n",
       "    <tr>\n",
       "      <th>332</th>\n",
       "      <td>27</td>\n",
       "      <td>San Isidro</td>\n",
       "      <td>-12.0998</td>\n",
       "      <td>-77.0363</td>\n",
       "      <td>898</td>\n",
       "      <td>Centro de Vacunación - Clínica Javier Prado</td>\n",
       "      <td>-12.090780</td>\n",
       "      <td>-77.028824</td>\n",
       "      <td>Hospital</td>\n",
       "    </tr>\n",
       "  </tbody>\n",
       "</table>\n",
       "</div>"
      ],
      "text/plain": [
       "      0            1        2        3     4  \\\n",
       "365  27   San Isidro -12.0998 -77.0363   898   \n",
       "210  14        Lince -12.0848 -77.0356   709   \n",
       "116  11  Jesús María -12.0825 -77.0506  3047   \n",
       "355  27   San Isidro -12.0998 -77.0363   898   \n",
       "85   11  Jesús María -12.0825 -77.0506  3047   \n",
       "189  14        Lince -12.0848 -77.0356   709   \n",
       "250  18   Miraflores -12.1111 -77.0316  1211   \n",
       "359  27   San Isidro -12.0998 -77.0363   898   \n",
       "92   11  Jesús María -12.0825 -77.0506  3047   \n",
       "187  14        Lince -12.0848 -77.0356   709   \n",
       "356  27   San Isidro -12.0998 -77.0363   898   \n",
       "138  13  La Victoria -12.0734 -77.0163  4090   \n",
       "32    5        Breña -12.0571 -77.0517  1196   \n",
       "166   1         Lima -12.0464 -77.0428  8960   \n",
       "332  27   San Isidro -12.0998 -77.0363   898   \n",
       "\n",
       "                                                     5          6          7  \\\n",
       "365                                   12C Infectología -12.078357 -77.040320   \n",
       "210                                   12C Infectología -12.078357 -77.040320   \n",
       "116                                   12C Infectología -12.078357 -77.040320   \n",
       "355  Banco De Sangre - Hospital Nacional Edgardo Re... -12.079133 -77.041578   \n",
       "85   Banco De Sangre - Hospital Nacional Edgardo Re... -12.079133 -77.041578   \n",
       "189  Banco De Sangre - Hospital Nacional Edgardo Re... -12.079133 -77.041578   \n",
       "250                       Centro Medico Naval (CEMENA) -12.121735 -77.034348   \n",
       "359                       Centro Medico Naval (CEMENA) -12.121735 -77.034348   \n",
       "92                                   Centro Quirúrgico -12.078664 -77.039437   \n",
       "187                                  Centro Quirúrgico -12.078664 -77.039437   \n",
       "356                                  Centro Quirúrgico -12.078664 -77.039437   \n",
       "138                          Centro de Salud Max Arias -12.061502 -77.032122   \n",
       "32                           Centro de Salud Max Arias -12.061502 -77.032122   \n",
       "166                          Centro de Salud Max Arias -12.061502 -77.032122   \n",
       "332        Centro de Vacunación - Clínica Javier Prado -12.090780 -77.028824   \n",
       "\n",
       "                 8  \n",
       "365  Hospital Ward  \n",
       "210  Hospital Ward  \n",
       "116  Hospital Ward  \n",
       "355       Hospital  \n",
       "85        Hospital  \n",
       "189       Hospital  \n",
       "250       Hospital  \n",
       "359       Hospital  \n",
       "92        Hospital  \n",
       "187       Hospital  \n",
       "356       Hospital  \n",
       "138       Hospital  \n",
       "32        Hospital  \n",
       "166       Hospital  \n",
       "332       Hospital  "
      ]
     },
     "execution_count": 30,
     "metadata": {},
     "output_type": "execute_result"
    }
   ],
   "source": [
    "# Checking out the data\n",
    "lima_hospitals_dups.head(15)"
   ]
  },
  {
   "cell_type": "code",
   "execution_count": 32,
   "metadata": {
    "scrolled": true
   },
   "outputs": [
    {
     "data": {
      "text/plain": [
       "array(['12C Infectología',\n",
       "       'Banco De Sangre - Hospital Nacional Edgardo Rebagliati Martins',\n",
       "       'Centro Medico Naval (CEMENA)', 'Centro Quirúrgico',\n",
       "       'Centro de Salud Max Arias',\n",
       "       'Centro de Vacunación - Clínica Javier Prado',\n",
       "       'Centro de salud Militar - San Francisco', 'Clinica Continental',\n",
       "       'Clinica Libertadores', 'Clinica Pinel', 'Clinica Providencia',\n",
       "       'Clinica Santa Teresa', 'Clinica Sonreir',\n",
       "       'Clinica Virgen Del Rosario',\n",
       "       'Clinica Virgen de las Mercedes (Hosp. Militar Central',\n",
       "       'Clínica Anglo Americana', 'Clínica Cayetano Heredia',\n",
       "       'Clínica Centenario Peruano Japonesa', 'Clínica Concebir',\n",
       "       'Clínica De La Mujer', 'Clínica Delgado', 'Clínica Detecta',\n",
       "       'Clínica El Golf | Sanna', 'Clínica González', 'Clínica Good Hope',\n",
       "       'Clínica Good Hope - Centro Vacunacion Internacional',\n",
       "       'Clínica Hogar de la Madre', 'Clínica Internacional',\n",
       "       'Clínica Internacional - Sede Rehabilitación',\n",
       "       'Clínica Javier Prado', 'Clínica Las Américas',\n",
       "       'Clínica Limatambo', 'Clínica Maison de Santé',\n",
       "       'Clínica Miraflores (Instituto de Ginecología y Fertilidad)',\n",
       "       'Clínica Oncosalud', 'Clínica Ricardo Palma', 'Clínica San Felipe',\n",
       "       'Clínica San Marcos', 'Clínica Santa Beatriz',\n",
       "       'Clínica Santa Isabel', 'Clínica Santa Lucía',\n",
       "       'Clínica Santa Mónica', 'Clínica Stella Maris', 'Clínica Vesalio',\n",
       "       'Clínica san jose marello', 'Consultorio Virgen de las Nieves',\n",
       "       'Direccion De Examenes Clinicos Forense',\n",
       "       'Emergencia - Salud Mental', 'Emergencia Adultos',\n",
       "       'EsSalud  Larco', 'EsSalud Policlínico Chincha',\n",
       "       'Essalud CAP III - Carabayllo', 'Essalud CAP III San Isidro',\n",
       "       'Farmacia Universal', 'Fopasef', 'Hibu Perú',\n",
       "       'HospitAl de la solidaridad (Risso - lince)',\n",
       "       'Hospital Angamos ESSALUD', 'Hospital Augusto B. Leguía - PNP',\n",
       "       'Hospital Central FAP', 'Hospital Central PNP “Luis N. Saenz”',\n",
       "       'Hospital Edgardo Rebagliati Martins',\n",
       "       'Hospital Geriatrico PNP \"San Jose\"', 'Hospital Militar Central',\n",
       "       'Hospital Municipal Los Olivos', 'Hospital Municipal Surco Salud',\n",
       "       'Hospital Nacional Arzobispo Loayza',\n",
       "       'Hospital Nacional Docente Madre Niño San Bartolomé',\n",
       "       'Hospital Nacional Hipólito Unanue', 'Hospital Santa Rosa',\n",
       "       'Hospital Solidaridad Camana', 'Hospital Suarez Angamos',\n",
       "       'Hospital Víctor Larco Herrera', 'Hospital a Domicilio HD+',\n",
       "       'Hospital de Emergencias Grau - EsSalud',\n",
       "       'Hospital de Emergencias José Casimiro Ulloa',\n",
       "       'Hospital de la Solidaridad',\n",
       "       'INCOR -  Instituto Nacional Cardiovascular', 'ISSOMEDIC',\n",
       "       'Instituto Nacional Materno Perinatal - Maternidad de Lima',\n",
       "       'Instituto Nacional de Enfermedades Neoplásicas - INEN',\n",
       "       'Instituto Nacional de Oftalmología - INO',\n",
       "       'Instituto Nacional de Salud del Niño',\n",
       "       'Instituto Neuro Cardiovascular de las Américas - INCA',\n",
       "       'Instituto Peruano de Ortopedia y Traumatología - Clínica Ricardo Palma (IPOT CRP)',\n",
       "       'Municipalidad de San Isidro', 'Neoplasicas', 'Neurología',\n",
       "       'OPELUCE', 'Pabellon Medicina E1 - HNHU', 'Pediatría',\n",
       "       'Policlinico Club de Leones Salamanca de Monterrico',\n",
       "       'Policlinico Essalud  Castilla', 'Policlinico Essalud pizarro',\n",
       "       'Policlínico Essalud Próceres', 'Policlínico Jesús María',\n",
       "       'Policlínico Municipal Pueblo Libre', 'Policlínico Pizarro',\n",
       "       'Policlínico Suárez ESSALUD', 'Posta Medica Hacienda Naranjal',\n",
       "       'RENIEC', 'Red Salud', 'Resomasa',\n",
       "       'Resomasa Clinica Angloamericana', 'Rimac Seguros',\n",
       "       'Rodsuma Solidaridad Risso', 'SANNA | Clínica San Borja', 'SISOL',\n",
       "       'SISOL Comas', 'SISOL LINCE',\n",
       "       'Sistema Metropolitano de la Solidaridad - SISOL',\n",
       "       'UCI Clinica Centenario Peruano Japonesa',\n",
       "       'esSalud - Los Halcones'], dtype=object)"
      ]
     },
     "execution_count": 32,
     "metadata": {},
     "output_type": "execute_result"
    }
   ],
   "source": [
    "# Checking out the hospital names we need to fix\n",
    "lima_hospitals_dups[5].unique()"
   ]
  },
  {
   "cell_type": "code",
   "execution_count": 33,
   "metadata": {},
   "outputs": [],
   "source": [
    "# Setting up a list of \"Hospitals\" that are not Hospitals or dont have any specialization to help with COVID-19\n",
    "Not_hospitals = ['Banco De Sangre - Hospital Nacional Edgardo Rebagliati Martins',\n",
    "                 '12C Infectología',\n",
    "                 'Centro Medico Naval (CEMENA)',\n",
    "                 'Centro Quirúrgico',\n",
    "                 'Centro de Vacunación - Clínica Javier Prado',\n",
    "                 'Clinica Continental',\n",
    "                 'Clinica Santa Teresa',\n",
    "                 'Clinica Sonreir',\n",
    "                 'Clínica Cayetano Heredia',\n",
    "                 'Clínica Concebir',\n",
    "                 'Clínica Miraflores (Instituto de Ginecología y Fertilidad)',\n",
    "                 'Clínica De La Mujer',\n",
    "                 'INCOR -  Instituto Nacional Cardiovascular',\n",
    "                 'RENIEC',\n",
    "                 'Pediatría',\n",
    "                 'Instituto Nacional Materno Perinatal - Maternidad de Lima',\n",
    "                 'Instituto Nacional de Enfermedades Neoplásicas - INEN',\n",
    "                 'Instituto Nacional de Oftalmología - INO',\n",
    "                 'Instituto Neuro Cardiovascular de las Américas - INCA',\n",
    "                 'Municipalidad de San Isidro',\n",
    "                 'Clínica Detecta',\n",
    "                 'Clínica Internacional - Sede Rehabilitación',\n",
    "                 'Direccion De Examenes Clinicos Forense',\n",
    "                 'Emergencia - Salud Mental',\n",
    "                 'Emergencia Adultos',\n",
    "                 'Farmacia Universal',\n",
    "                 'Pabellon Medicina E1 - HNHU',\n",
    "                 'Fopasef',\n",
    "                 'Red Salud',\n",
    "                 'Resomasa',\n",
    "                 'Resomasa Clinica Angloamericana',\n",
    "                 'Rimac Seguros',\n",
    "                 'Neoplasicas',\n",
    "                 'Neurología',\n",
    "                 'Instituto Peruano de Ortopedia y Traumatología - Clínica Ricardo Palma (IPOT CRP)',\n",
    "                 'Clínica Good Hope - Centro Vacunacion Internacional',\n",
    "                 'Consultorio Virgen de las Nieves',\n",
    "                 'Hibu Perú',\n",
    "                 'Hospital a Domicilio HD+',\n",
    "                 'Clínica Hogar de la Madre',\n",
    "                 'Clínica Oncosalud',\n",
    "                 'Clínica san jose marello',\n",
    "                 'OPELUCE',\n",
    "                 'Policlinico Club de Leones Salamanca de Monterrico',\n",
    "                 'Policlínico Pizarro',\n",
    "                 'SISOL',\n",
    "                 'SISOL Comas',\n",
    "                 'UCI Clinica Centenario Peruano Japonesa']"
   ]
  },
  {
   "cell_type": "code",
   "execution_count": 34,
   "metadata": {},
   "outputs": [],
   "source": [
    "# Setting up a list of wrongly assignated Hospitals.\n",
    "wrong_dist = [32,166,388,249,199,285,286,396,279,280,229,240,232,15,81,432,336,106,238,205,\n",
    "              352,112,151,12,134,426,381,19,124,325,254,265,330,109,257,207,417,34,193,383,121,\n",
    "              180,271,225,327,164,110,33,194,148,135,379,433,139,382,331,107,266,96,239,22,\n",
    "              410,8,430,208,23,61,267,100,344,142,340,420,292,423,196,323,228,274,175,337,\n",
    "              278,230,227,277,75,10,14,18,400,99,25,237,30,339,419,114,31,140,3,424,29,144,343,101,\n",
    "              244,338,76,26,60,13,411,377,203,104,165,36,299,169,375,21,284,200,111,234,\n",
    "              421,335,213,102,143,342,431,385,141,178,89,347,113,281,252,349]"
   ]
  },
  {
   "cell_type": "code",
   "execution_count": 35,
   "metadata": {},
   "outputs": [],
   "source": [
    "# Changing the names of some hospitals that had the wrong name\n",
    "lima_hospitals.loc[[158],[5]] = 'Clínica Internacional - Sede Lima'\n",
    "lima_hospitals.loc[[305],[5]] = 'Clínica Internacional - Sede San Borja'\n",
    "lima_hospitals.loc[[162],[5]] = 'Clínica Maison de Santé de Lima'\n",
    "lima_hospitals.loc[[407],[5]] = 'Clínica Maison de Santé del Este'\n",
    "lima_hospitals.loc[[6],[5]] = 'Clínica Maison de Santé del Sur'\n",
    "lima_hospitals.loc[[155],[5]] = 'SISOL Salud Camana'\n",
    "lima_hospitals.loc[[181],[5]] = 'SISOL Salud Lince'\n",
    "lima_hospitals.loc[[409],[5]] = 'SISOL Salud Surquillo'\n",
    "lima_hospitals.loc[[296],[5]] = 'SISOL Salud Metro UNI'\n",
    "lima_hospitals.loc[[42],[5]] = 'SISOL Salud Carabayllo'\n",
    "lima_hospitals.loc[[63],[5]] = 'SISOL Salud El Agustino'\n",
    "lima_hospitals.loc[[302],[5]] = 'Instituto Nacional de Salud del Niño San Borja'\n",
    "lima_hospitals.loc[[177],[5]] = 'Policlínico Risso'\n",
    "lima_hospitals.loc[[226],[5]] = 'SISOL Salud Magdalena'\n",
    "lima_hospitals.loc[[412],[5]] = 'ESSALUD Surquillo'"
   ]
  },
  {
   "cell_type": "code",
   "execution_count": 37,
   "metadata": {},
   "outputs": [],
   "source": [
    "# Dropping the rows that dont satisfy our conditions\n",
    "lima_hospitals.drop(lima_hospitals[lima_hospitals[5].isin(Not_hospitals)].index, axis=0, inplace=True)\n",
    "lima_hospitals.drop(wrong_dist, axis=0, inplace=True)"
   ]
  },
  {
   "cell_type": "code",
   "execution_count": 38,
   "metadata": {},
   "outputs": [
    {
     "data": {
      "text/html": [
       "<div>\n",
       "<style scoped>\n",
       "    .dataframe tbody tr th:only-of-type {\n",
       "        vertical-align: middle;\n",
       "    }\n",
       "\n",
       "    .dataframe tbody tr th {\n",
       "        vertical-align: top;\n",
       "    }\n",
       "\n",
       "    .dataframe thead th {\n",
       "        text-align: right;\n",
       "    }\n",
       "</style>\n",
       "<table border=\"1\" class=\"dataframe\">\n",
       "  <thead>\n",
       "    <tr style=\"text-align: right;\">\n",
       "      <th></th>\n",
       "      <th>0</th>\n",
       "      <th>1</th>\n",
       "      <th>2</th>\n",
       "      <th>3</th>\n",
       "      <th>4</th>\n",
       "      <th>5</th>\n",
       "      <th>6</th>\n",
       "      <th>7</th>\n",
       "      <th>8</th>\n",
       "    </tr>\n",
       "  </thead>\n",
       "  <tbody>\n",
       "  </tbody>\n",
       "</table>\n",
       "</div>"
      ],
      "text/plain": [
       "Empty DataFrame\n",
       "Columns: [0, 1, 2, 3, 4, 5, 6, 7, 8]\n",
       "Index: []"
      ]
     },
     "execution_count": 38,
     "metadata": {},
     "output_type": "execute_result"
    }
   ],
   "source": [
    "# Generating a new duplicate dataframe just to check\n",
    "lima_hospitals_dups = lima_hospitals[lima_hospitals.duplicated([5], keep=False)].sort_values(by=[5])\n",
    "lima_hospitals_dups.head()"
   ]
  },
  {
   "cell_type": "markdown",
   "metadata": {},
   "source": [
    "Nice! Now we dont have any more duplicate **\"Hospitals\"** in our dataframe. Our work is not over though. Checking up the data further, we found more **\"Hospitals\"** that are'nt hospitals. We'll remove them."
   ]
  },
  {
   "cell_type": "code",
   "execution_count": 39,
   "metadata": {},
   "outputs": [],
   "source": [
    "Not_hospitals_2 = ['Torre de Consultas Externas - HNGAI',\n",
    "                   'Hospital Guillermo Almenara - Neurocirugía',\n",
    "                   'Sala San Andrés',\n",
    "                   'Sala Julian Arce del HNDM',\n",
    "                   'Laboratorio Oswaldo Hercelles del HNDM',\n",
    "                   'Servicio De Traumatologia - Emergencias Hospital Dos De Mayo',\n",
    "                   'Consultorios Externos HNHU',\n",
    "                   'Hospital Hipolito Unanue SOP',\n",
    "                   'Patología HNHU',\n",
    "                   'Oftalmologia - Hospital Sergio Bernales',\n",
    "                   'Hospital Puente Piedra',\n",
    "                   'Hospital de la Solidaridad',\n",
    "                   'Clinica Virgen de las Mercedes (Hosp. Militar Central',\n",
    "                   'Hospital Solidaridad Camana',\n",
    "                   'Hospital de la solidaridad',\n",
    "                   'VillaSalud',\n",
    "                   'Complejo Hospitalario Guillermo Kaelin']"
   ]
  },
  {
   "cell_type": "code",
   "execution_count": 40,
   "metadata": {},
   "outputs": [
    {
     "name": "stdout",
     "output_type": "stream",
     "text": [
      "<class 'pandas.core.frame.DataFrame'>\n",
      "Int64Index: 148 entries, 0 to 446\n",
      "Data columns (total 9 columns):\n",
      " #   Column  Non-Null Count  Dtype  \n",
      "---  ------  --------------  -----  \n",
      " 0   0       148 non-null    int64  \n",
      " 1   1       148 non-null    object \n",
      " 2   2       148 non-null    float64\n",
      " 3   3       148 non-null    float64\n",
      " 4   4       148 non-null    int64  \n",
      " 5   5       148 non-null    object \n",
      " 6   6       148 non-null    float64\n",
      " 7   7       148 non-null    float64\n",
      " 8   8       148 non-null    object \n",
      "dtypes: float64(4), int64(2), object(3)\n",
      "memory usage: 9.8+ KB\n"
     ]
    }
   ],
   "source": [
    "lima_hospitals.drop(lima_hospitals[lima_hospitals[5].isin(Not_hospitals_2)].index, axis=0, inplace=True)\n",
    "lima_hospitals.info()"
   ]
  },
  {
   "cell_type": "code",
   "execution_count": 41,
   "metadata": {},
   "outputs": [
    {
     "data": {
      "text/html": [
       "<div>\n",
       "<style scoped>\n",
       "    .dataframe tbody tr th:only-of-type {\n",
       "        vertical-align: middle;\n",
       "    }\n",
       "\n",
       "    .dataframe tbody tr th {\n",
       "        vertical-align: top;\n",
       "    }\n",
       "\n",
       "    .dataframe thead th {\n",
       "        text-align: right;\n",
       "    }\n",
       "</style>\n",
       "<table border=\"1\" class=\"dataframe\">\n",
       "  <thead>\n",
       "    <tr style=\"text-align: right;\">\n",
       "      <th></th>\n",
       "      <th>PostalCode</th>\n",
       "      <th>District</th>\n",
       "      <th>DistLatitude</th>\n",
       "      <th>DistLongitude</th>\n",
       "      <th>CovidCases</th>\n",
       "      <th>Hospital</th>\n",
       "      <th>HospLatitude</th>\n",
       "      <th>HospitalLongitude</th>\n",
       "      <th>Category</th>\n",
       "    </tr>\n",
       "  </thead>\n",
       "  <tbody>\n",
       "    <tr>\n",
       "      <th>0</th>\n",
       "      <td>3</td>\n",
       "      <td>Ate</td>\n",
       "      <td>-12.0148</td>\n",
       "      <td>-76.8850</td>\n",
       "      <td>5601</td>\n",
       "      <td>3B SALUD E.I.R.L.</td>\n",
       "      <td>-12.012660</td>\n",
       "      <td>-76.877576</td>\n",
       "      <td>Hospital</td>\n",
       "    </tr>\n",
       "    <tr>\n",
       "      <th>1</th>\n",
       "      <td>4</td>\n",
       "      <td>Barranco</td>\n",
       "      <td>-12.1412</td>\n",
       "      <td>-77.0221</td>\n",
       "      <td>441</td>\n",
       "      <td>EsSalud</td>\n",
       "      <td>-12.147275</td>\n",
       "      <td>-77.018664</td>\n",
       "      <td>Hospital</td>\n",
       "    </tr>\n",
       "    <tr>\n",
       "      <th>4</th>\n",
       "      <td>4</td>\n",
       "      <td>Barranco</td>\n",
       "      <td>-12.1412</td>\n",
       "      <td>-77.0221</td>\n",
       "      <td>441</td>\n",
       "      <td>Clínica Caravedo</td>\n",
       "      <td>-12.155737</td>\n",
       "      <td>-77.021910</td>\n",
       "      <td>Hospital</td>\n",
       "    </tr>\n",
       "    <tr>\n",
       "      <th>6</th>\n",
       "      <td>4</td>\n",
       "      <td>Barranco</td>\n",
       "      <td>-12.1412</td>\n",
       "      <td>-77.0221</td>\n",
       "      <td>441</td>\n",
       "      <td>Clínica Maison de Santé del Sur</td>\n",
       "      <td>-12.157053</td>\n",
       "      <td>-77.022743</td>\n",
       "      <td>Hospital</td>\n",
       "    </tr>\n",
       "    <tr>\n",
       "      <th>9</th>\n",
       "      <td>4</td>\n",
       "      <td>Barranco</td>\n",
       "      <td>-12.1412</td>\n",
       "      <td>-77.0221</td>\n",
       "      <td>441</td>\n",
       "      <td>Policlinico Militar de Chorrillos</td>\n",
       "      <td>-12.160113</td>\n",
       "      <td>-77.019408</td>\n",
       "      <td>Hospital</td>\n",
       "    </tr>\n",
       "  </tbody>\n",
       "</table>\n",
       "</div>"
      ],
      "text/plain": [
       "   PostalCode  District  DistLatitude  DistLongitude  CovidCases  \\\n",
       "0           3       Ate      -12.0148       -76.8850        5601   \n",
       "1           4  Barranco      -12.1412       -77.0221         441   \n",
       "4           4  Barranco      -12.1412       -77.0221         441   \n",
       "6           4  Barranco      -12.1412       -77.0221         441   \n",
       "9           4  Barranco      -12.1412       -77.0221         441   \n",
       "\n",
       "                            Hospital  HospLatitude  HospitalLongitude  \\\n",
       "0                  3B SALUD E.I.R.L.    -12.012660         -76.877576   \n",
       "1                            EsSalud    -12.147275         -77.018664   \n",
       "4                   Clínica Caravedo    -12.155737         -77.021910   \n",
       "6    Clínica Maison de Santé del Sur    -12.157053         -77.022743   \n",
       "9  Policlinico Militar de Chorrillos    -12.160113         -77.019408   \n",
       "\n",
       "   Category  \n",
       "0  Hospital  \n",
       "1  Hospital  \n",
       "4  Hospital  \n",
       "6  Hospital  \n",
       "9  Hospital  "
      ]
     },
     "execution_count": 41,
     "metadata": {},
     "output_type": "execute_result"
    }
   ],
   "source": [
    "# Finally, we just need to rename the columns:\n",
    "lima_hospitals.columns = ['PostalCode','District','DistLatitude','DistLongitude','CovidCases','Hospital','HospLatitude',\n",
    "                     'HospitalLongitude','Category']\n",
    "lima_hospitals.head()"
   ]
  },
  {
   "cell_type": "markdown",
   "metadata": {},
   "source": [
    "### Data Analysis"
   ]
  },
  {
   "cell_type": "markdown",
   "metadata": {},
   "source": [
    "After all our work preparing the data, we can finally start analyzing."
   ]
  },
  {
   "cell_type": "markdown",
   "metadata": {},
   "source": [
    "For now, I would start analyzing the Lima districts and their hospitals in a map plot."
   ]
  },
  {
   "cell_type": "code",
   "execution_count": 47,
   "metadata": {},
   "outputs": [
    {
     "name": "stdout",
     "output_type": "stream",
     "text": [
      "The geograpical coordinate of Lima City are -12.0621065, -77.0365256.\n"
     ]
    }
   ],
   "source": [
    "# With this part, we now now the coordinates of the city Lima\n",
    "address = 'Lima'\n",
    "\n",
    "geolocator = Nominatim(user_agent=\"lima_explorer\")\n",
    "location = geolocator.geocode(address)\n",
    "latitude = location.latitude\n",
    "longitude = location.longitude\n",
    "print('The geograpical coordinate of Lima City are {}, {}.'.format(latitude, longitude))"
   ]
  },
  {
   "cell_type": "code",
   "execution_count": 49,
   "metadata": {},
   "outputs": [
    {
     "data": {
      "text/html": [
       "<div style=\"width:100%;\"><div style=\"position:relative;width:100%;height:0;padding-bottom:60%;\"><span style=\"color:#565656\">Make this Notebook Trusted to load map: File -> Trust Notebook</span><iframe src=\"about:blank\" style=\"position:absolute;width:100%;height:100%;left:0;top:0;border:none !important;\" data-html=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 onload=\"this.contentDocument.open();this.contentDocument.write(atob(this.getAttribute('data-html')));this.contentDocument.close();\" allowfullscreen webkitallowfullscreen mozallowfullscreen></iframe></div></div>"
      ],
      "text/plain": [
       "<folium.folium.Map at 0x1edba970>"
      ]
     },
     "execution_count": 49,
     "metadata": {},
     "output_type": "execute_result"
    }
   ],
   "source": [
    "map_lima = folium.Map(location=[latitude, longitude], zoom_start=10)\n",
    "\n",
    "for lat, lng, dist, case in zip(df_final['Latitude'], df_final['Longitude'], df_final['District'], df_final['PositiveCases']):\n",
    "    label_1 = '{} district, {} positive cases'.format(dist, case)\n",
    "    label_1 = folium.Popup(label_1, parse_html=True)\n",
    "    folium.CircleMarker(\n",
    "        [lat, lng],\n",
    "        radius=5,\n",
    "        popup=label_1,\n",
    "        color='blue',\n",
    "        fill=True,\n",
    "        fill_color='#3186cc',\n",
    "        fill_opacity=0.7,\n",
    "        parse_html=False).add_to(map_lima)\n",
    "\n",
    "for lat, lng, dist, name in zip(lima_hospitals['HospLatitude'], lima_hospitals['HospitalLongitude'], lima_hospitals['District'], lima_hospitals['Hospital']):\n",
    "    label_2 = '{} district, {}'.format(dist, name)\n",
    "    label_2 = folium.Popup(label_2, parse_html=True)\n",
    "    folium.CircleMarker(\n",
    "        [lat, lng],\n",
    "        radius=5,\n",
    "        popup=label_2,\n",
    "        color='red',\n",
    "        fill=True,\n",
    "        fill_color='#c91c33',\n",
    "        fill_opacity=0.7,\n",
    "        parse_html=False).add_to(map_lima)\n",
    "\n",
    "map_lima"
   ]
  },
  {
   "cell_type": "markdown",
   "metadata": {},
   "source": [
    "The maps is very interesting. We can see a few things from this:\n",
    "\n",
    "* The agglomeration of hospitals seems to be in the center of Lima.\n",
    "* As you progressively leave from the center, there’s less hospitals.\n",
    "* Districts in the outskirts of the city have little to no hospitals."
   ]
  },
  {
   "cell_type": "markdown",
   "metadata": {},
   "source": [
    "OK! Now we can move on to evaluate the quantity of hospitals and CovidCases per district. We'll use horizontal bar charts for that. To create them, we first need to modify our dataframe slightly:\n",
    "* Group the dataframe by 'District' and 'CovidCases' to count the hospitals\n",
    "* Add the districts with no hospitals at the bottom."
   ]
  },
  {
   "cell_type": "code",
   "execution_count": 51,
   "metadata": {},
   "outputs": [
    {
     "data": {
      "text/html": [
       "<div>\n",
       "<style scoped>\n",
       "    .dataframe tbody tr th:only-of-type {\n",
       "        vertical-align: middle;\n",
       "    }\n",
       "\n",
       "    .dataframe tbody tr th {\n",
       "        vertical-align: top;\n",
       "    }\n",
       "\n",
       "    .dataframe thead th {\n",
       "        text-align: right;\n",
       "    }\n",
       "</style>\n",
       "<table border=\"1\" class=\"dataframe\">\n",
       "  <thead>\n",
       "    <tr style=\"text-align: right;\">\n",
       "      <th></th>\n",
       "      <th>District</th>\n",
       "      <th>CovidCases</th>\n",
       "      <th>Hospitals</th>\n",
       "    </tr>\n",
       "  </thead>\n",
       "  <tbody>\n",
       "    <tr>\n",
       "      <th>0</th>\n",
       "      <td>Ate</td>\n",
       "      <td>5601</td>\n",
       "      <td>1</td>\n",
       "    </tr>\n",
       "    <tr>\n",
       "      <th>1</th>\n",
       "      <td>Barranco</td>\n",
       "      <td>441</td>\n",
       "      <td>4</td>\n",
       "    </tr>\n",
       "    <tr>\n",
       "      <th>2</th>\n",
       "      <td>Breña</td>\n",
       "      <td>1196</td>\n",
       "      <td>2</td>\n",
       "    </tr>\n",
       "    <tr>\n",
       "      <th>3</th>\n",
       "      <td>Carabayllo</td>\n",
       "      <td>2036</td>\n",
       "      <td>4</td>\n",
       "    </tr>\n",
       "    <tr>\n",
       "      <th>4</th>\n",
       "      <td>Chaclacayo</td>\n",
       "      <td>438</td>\n",
       "      <td>7</td>\n",
       "    </tr>\n",
       "    <tr>\n",
       "      <th>5</th>\n",
       "      <td>Chorrillos</td>\n",
       "      <td>2839</td>\n",
       "      <td>6</td>\n",
       "    </tr>\n",
       "    <tr>\n",
       "      <th>6</th>\n",
       "      <td>Comas</td>\n",
       "      <td>5262</td>\n",
       "      <td>3</td>\n",
       "    </tr>\n",
       "    <tr>\n",
       "      <th>7</th>\n",
       "      <td>El Agustino</td>\n",
       "      <td>4429</td>\n",
       "      <td>8</td>\n",
       "    </tr>\n",
       "    <tr>\n",
       "      <th>8</th>\n",
       "      <td>Independencia</td>\n",
       "      <td>2303</td>\n",
       "      <td>1</td>\n",
       "    </tr>\n",
       "    <tr>\n",
       "      <th>9</th>\n",
       "      <td>Jesús María</td>\n",
       "      <td>3047</td>\n",
       "      <td>6</td>\n",
       "    </tr>\n",
       "    <tr>\n",
       "      <th>10</th>\n",
       "      <td>La Molina</td>\n",
       "      <td>876</td>\n",
       "      <td>3</td>\n",
       "    </tr>\n",
       "    <tr>\n",
       "      <th>11</th>\n",
       "      <td>La Victoria</td>\n",
       "      <td>4090</td>\n",
       "      <td>4</td>\n",
       "    </tr>\n",
       "    <tr>\n",
       "      <th>12</th>\n",
       "      <td>Lima</td>\n",
       "      <td>8960</td>\n",
       "      <td>10</td>\n",
       "    </tr>\n",
       "    <tr>\n",
       "      <th>13</th>\n",
       "      <td>Lince</td>\n",
       "      <td>709</td>\n",
       "      <td>6</td>\n",
       "    </tr>\n",
       "    <tr>\n",
       "      <th>14</th>\n",
       "      <td>Los Olivos</td>\n",
       "      <td>2695</td>\n",
       "      <td>5</td>\n",
       "    </tr>\n",
       "    <tr>\n",
       "      <th>15</th>\n",
       "      <td>Lurigancho</td>\n",
       "      <td>969</td>\n",
       "      <td>2</td>\n",
       "    </tr>\n",
       "    <tr>\n",
       "      <th>16</th>\n",
       "      <td>Lurín</td>\n",
       "      <td>976</td>\n",
       "      <td>3</td>\n",
       "    </tr>\n",
       "    <tr>\n",
       "      <th>17</th>\n",
       "      <td>Magdalena del Mar</td>\n",
       "      <td>659</td>\n",
       "      <td>3</td>\n",
       "    </tr>\n",
       "    <tr>\n",
       "      <th>18</th>\n",
       "      <td>Miraflores</td>\n",
       "      <td>1211</td>\n",
       "      <td>9</td>\n",
       "    </tr>\n",
       "    <tr>\n",
       "      <th>19</th>\n",
       "      <td>Pachacamac</td>\n",
       "      <td>465</td>\n",
       "      <td>1</td>\n",
       "    </tr>\n",
       "    <tr>\n",
       "      <th>20</th>\n",
       "      <td>Pueblo Libre</td>\n",
       "      <td>824</td>\n",
       "      <td>4</td>\n",
       "    </tr>\n",
       "    <tr>\n",
       "      <th>21</th>\n",
       "      <td>Puente Piedra</td>\n",
       "      <td>2501</td>\n",
       "      <td>3</td>\n",
       "    </tr>\n",
       "    <tr>\n",
       "      <th>22</th>\n",
       "      <td>Rímac</td>\n",
       "      <td>3070</td>\n",
       "      <td>4</td>\n",
       "    </tr>\n",
       "    <tr>\n",
       "      <th>23</th>\n",
       "      <td>San Borja</td>\n",
       "      <td>1438</td>\n",
       "      <td>10</td>\n",
       "    </tr>\n",
       "    <tr>\n",
       "      <th>24</th>\n",
       "      <td>San Isidro</td>\n",
       "      <td>898</td>\n",
       "      <td>6</td>\n",
       "    </tr>\n",
       "    <tr>\n",
       "      <th>25</th>\n",
       "      <td>San Juan de Lurigancho</td>\n",
       "      <td>9056</td>\n",
       "      <td>5</td>\n",
       "    </tr>\n",
       "    <tr>\n",
       "      <th>26</th>\n",
       "      <td>San Juan de Miraflores</td>\n",
       "      <td>3598</td>\n",
       "      <td>4</td>\n",
       "    </tr>\n",
       "    <tr>\n",
       "      <th>27</th>\n",
       "      <td>San Luis</td>\n",
       "      <td>841</td>\n",
       "      <td>1</td>\n",
       "    </tr>\n",
       "    <tr>\n",
       "      <th>28</th>\n",
       "      <td>San Martín de Porres</td>\n",
       "      <td>6717</td>\n",
       "      <td>2</td>\n",
       "    </tr>\n",
       "    <tr>\n",
       "      <th>29</th>\n",
       "      <td>San Miguel</td>\n",
       "      <td>1608</td>\n",
       "      <td>7</td>\n",
       "    </tr>\n",
       "    <tr>\n",
       "      <th>30</th>\n",
       "      <td>Santa Anita</td>\n",
       "      <td>3064</td>\n",
       "      <td>1</td>\n",
       "    </tr>\n",
       "    <tr>\n",
       "      <th>31</th>\n",
       "      <td>Santiago de Surco</td>\n",
       "      <td>2364</td>\n",
       "      <td>4</td>\n",
       "    </tr>\n",
       "    <tr>\n",
       "      <th>32</th>\n",
       "      <td>Surquillo</td>\n",
       "      <td>1151</td>\n",
       "      <td>3</td>\n",
       "    </tr>\n",
       "    <tr>\n",
       "      <th>33</th>\n",
       "      <td>Villa El Salvador</td>\n",
       "      <td>4116</td>\n",
       "      <td>4</td>\n",
       "    </tr>\n",
       "    <tr>\n",
       "      <th>34</th>\n",
       "      <td>Villa María del Triunfo</td>\n",
       "      <td>2861</td>\n",
       "      <td>2</td>\n",
       "    </tr>\n",
       "  </tbody>\n",
       "</table>\n",
       "</div>"
      ],
      "text/plain": [
       "                   District  CovidCases  Hospitals\n",
       "0                       Ate        5601          1\n",
       "1                  Barranco         441          4\n",
       "2                     Breña        1196          2\n",
       "3                Carabayllo        2036          4\n",
       "4                Chaclacayo         438          7\n",
       "5                Chorrillos        2839          6\n",
       "6                     Comas        5262          3\n",
       "7               El Agustino        4429          8\n",
       "8             Independencia        2303          1\n",
       "9               Jesús María        3047          6\n",
       "10                La Molina         876          3\n",
       "11              La Victoria        4090          4\n",
       "12                     Lima        8960         10\n",
       "13                    Lince         709          6\n",
       "14               Los Olivos        2695          5\n",
       "15               Lurigancho         969          2\n",
       "16                    Lurín         976          3\n",
       "17        Magdalena del Mar         659          3\n",
       "18               Miraflores        1211          9\n",
       "19               Pachacamac         465          1\n",
       "20             Pueblo Libre         824          4\n",
       "21            Puente Piedra        2501          3\n",
       "22                    Rímac        3070          4\n",
       "23                San Borja        1438         10\n",
       "24               San Isidro         898          6\n",
       "25   San Juan de Lurigancho        9056          5\n",
       "26   San Juan de Miraflores        3598          4\n",
       "27                 San Luis         841          1\n",
       "28     San Martín de Porres        6717          2\n",
       "29               San Miguel        1608          7\n",
       "30              Santa Anita        3064          1\n",
       "31        Santiago de Surco        2364          4\n",
       "32                Surquillo        1151          3\n",
       "33        Villa El Salvador        4116          4\n",
       "34  Villa María del Triunfo        2861          2"
      ]
     },
     "execution_count": 51,
     "metadata": {},
     "output_type": "execute_result"
    }
   ],
   "source": [
    "# Grouping to get the amount of hospitals\n",
    "df_final_count = lima_hospitals.groupby(['District','CovidCases']).size().reset_index(name='Hospitals')\n",
    "df_final_count"
   ]
  },
  {
   "cell_type": "code",
   "execution_count": 52,
   "metadata": {},
   "outputs": [
    {
     "data": {
      "text/html": [
       "<div>\n",
       "<style scoped>\n",
       "    .dataframe tbody tr th:only-of-type {\n",
       "        vertical-align: middle;\n",
       "    }\n",
       "\n",
       "    .dataframe tbody tr th {\n",
       "        vertical-align: top;\n",
       "    }\n",
       "\n",
       "    .dataframe thead th {\n",
       "        text-align: right;\n",
       "    }\n",
       "</style>\n",
       "<table border=\"1\" class=\"dataframe\">\n",
       "  <thead>\n",
       "    <tr style=\"text-align: right;\">\n",
       "      <th></th>\n",
       "      <th>District</th>\n",
       "      <th>CovidCases</th>\n",
       "      <th>Hospitals</th>\n",
       "    </tr>\n",
       "  </thead>\n",
       "  <tbody>\n",
       "    <tr>\n",
       "      <th>0</th>\n",
       "      <td>Ancón</td>\n",
       "      <td>328</td>\n",
       "      <td>0</td>\n",
       "    </tr>\n",
       "    <tr>\n",
       "      <th>7</th>\n",
       "      <td>Cieneguilla</td>\n",
       "      <td>107</td>\n",
       "      <td>0</td>\n",
       "    </tr>\n",
       "    <tr>\n",
       "      <th>22</th>\n",
       "      <td>Pucusana</td>\n",
       "      <td>190</td>\n",
       "      <td>0</td>\n",
       "    </tr>\n",
       "    <tr>\n",
       "      <th>25</th>\n",
       "      <td>Punta Hermosa</td>\n",
       "      <td>42</td>\n",
       "      <td>0</td>\n",
       "    </tr>\n",
       "    <tr>\n",
       "      <th>26</th>\n",
       "      <td>Punta Negra</td>\n",
       "      <td>34</td>\n",
       "      <td>0</td>\n",
       "    </tr>\n",
       "    <tr>\n",
       "      <th>28</th>\n",
       "      <td>San Bartolo</td>\n",
       "      <td>40</td>\n",
       "      <td>0</td>\n",
       "    </tr>\n",
       "    <tr>\n",
       "      <th>37</th>\n",
       "      <td>Santa María del Mar</td>\n",
       "      <td>9</td>\n",
       "      <td>0</td>\n",
       "    </tr>\n",
       "    <tr>\n",
       "      <th>38</th>\n",
       "      <td>Santa Rosa</td>\n",
       "      <td>61</td>\n",
       "      <td>0</td>\n",
       "    </tr>\n",
       "  </tbody>\n",
       "</table>\n",
       "</div>"
      ],
      "text/plain": [
       "               District  CovidCases  Hospitals\n",
       "0                 Ancón         328          0\n",
       "7           Cieneguilla         107          0\n",
       "22             Pucusana         190          0\n",
       "25        Punta Hermosa          42          0\n",
       "26          Punta Negra          34          0\n",
       "28          San Bartolo          40          0\n",
       "37  Santa María del Mar           9          0\n",
       "38           Santa Rosa          61          0"
      ]
     },
     "execution_count": 52,
     "metadata": {},
     "output_type": "execute_result"
    }
   ],
   "source": [
    "# Getting the districts that didnt appear in the dataframe\n",
    "df_append_count = df_final.groupby(['District','PositiveCases']).size().reset_index(name='Hospitals')\n",
    "df_append_count['Hospitals'] = 0\n",
    "df_append_count.columns = ['District','CovidCases','Hospitals']\n",
    "df_append_count[df_append_count['District'].isin(df_final_count['District']) == False]"
   ]
  },
  {
   "cell_type": "code",
   "execution_count": 53,
   "metadata": {},
   "outputs": [
    {
     "data": {
      "text/html": [
       "<div>\n",
       "<style scoped>\n",
       "    .dataframe tbody tr th:only-of-type {\n",
       "        vertical-align: middle;\n",
       "    }\n",
       "\n",
       "    .dataframe tbody tr th {\n",
       "        vertical-align: top;\n",
       "    }\n",
       "\n",
       "    .dataframe thead th {\n",
       "        text-align: right;\n",
       "    }\n",
       "</style>\n",
       "<table border=\"1\" class=\"dataframe\">\n",
       "  <thead>\n",
       "    <tr style=\"text-align: right;\">\n",
       "      <th></th>\n",
       "      <th>District</th>\n",
       "      <th>CovidCases</th>\n",
       "      <th>Hospitals</th>\n",
       "    </tr>\n",
       "  </thead>\n",
       "  <tbody>\n",
       "    <tr>\n",
       "      <th>33</th>\n",
       "      <td>Villa El Salvador</td>\n",
       "      <td>4116</td>\n",
       "      <td>4</td>\n",
       "    </tr>\n",
       "    <tr>\n",
       "      <th>34</th>\n",
       "      <td>Villa María del Triunfo</td>\n",
       "      <td>2861</td>\n",
       "      <td>2</td>\n",
       "    </tr>\n",
       "    <tr>\n",
       "      <th>35</th>\n",
       "      <td>Ancón</td>\n",
       "      <td>328</td>\n",
       "      <td>0</td>\n",
       "    </tr>\n",
       "    <tr>\n",
       "      <th>36</th>\n",
       "      <td>Cieneguilla</td>\n",
       "      <td>107</td>\n",
       "      <td>0</td>\n",
       "    </tr>\n",
       "    <tr>\n",
       "      <th>37</th>\n",
       "      <td>Pucusana</td>\n",
       "      <td>190</td>\n",
       "      <td>0</td>\n",
       "    </tr>\n",
       "    <tr>\n",
       "      <th>38</th>\n",
       "      <td>Punta Hermosa</td>\n",
       "      <td>42</td>\n",
       "      <td>0</td>\n",
       "    </tr>\n",
       "    <tr>\n",
       "      <th>39</th>\n",
       "      <td>Punta Negra</td>\n",
       "      <td>34</td>\n",
       "      <td>0</td>\n",
       "    </tr>\n",
       "    <tr>\n",
       "      <th>40</th>\n",
       "      <td>San Bartolo</td>\n",
       "      <td>40</td>\n",
       "      <td>0</td>\n",
       "    </tr>\n",
       "    <tr>\n",
       "      <th>41</th>\n",
       "      <td>Santa María del Mar</td>\n",
       "      <td>9</td>\n",
       "      <td>0</td>\n",
       "    </tr>\n",
       "    <tr>\n",
       "      <th>42</th>\n",
       "      <td>Santa Rosa</td>\n",
       "      <td>61</td>\n",
       "      <td>0</td>\n",
       "    </tr>\n",
       "  </tbody>\n",
       "</table>\n",
       "</div>"
      ],
      "text/plain": [
       "                   District  CovidCases  Hospitals\n",
       "33        Villa El Salvador        4116          4\n",
       "34  Villa María del Triunfo        2861          2\n",
       "35                    Ancón         328          0\n",
       "36              Cieneguilla         107          0\n",
       "37                 Pucusana         190          0\n",
       "38            Punta Hermosa          42          0\n",
       "39              Punta Negra          34          0\n",
       "40              San Bartolo          40          0\n",
       "41      Santa María del Mar           9          0\n",
       "42               Santa Rosa          61          0"
      ]
     },
     "execution_count": 53,
     "metadata": {},
     "output_type": "execute_result"
    }
   ],
   "source": [
    "# Appending the dataframe\n",
    "df_count = df_final_count.append(df_append_count[df_append_count['District'].isin(df_final_count['District']) == False], ignore_index = True)\n",
    "df_count.tail(10)"
   ]
  },
  {
   "cell_type": "markdown",
   "metadata": {},
   "source": [
    "Great! Lets start plotting. What we want is:\n",
    "* Covid Positive Cases per Districts in Lima\n",
    "* Hospitals per District"
   ]
  },
  {
   "cell_type": "code",
   "execution_count": 54,
   "metadata": {},
   "outputs": [
    {
     "name": "stdout",
     "output_type": "stream",
     "text": [
      "Matplotlib version:  3.2.1\n"
     ]
    }
   ],
   "source": [
    "# use the inline backend to generate the plots within the browser\n",
    "%matplotlib inline \n",
    "\n",
    "import matplotlib as mpl\n",
    "import matplotlib.pyplot as plt\n",
    "\n",
    "mpl.style.use('ggplot') # optional: for ggplot-like style\n",
    "\n",
    "# check for latest version of Matplotlib\n",
    "print ('Matplotlib version: ', mpl.__version__) # >= 2.0.0"
   ]
  },
  {
   "cell_type": "code",
   "execution_count": 55,
   "metadata": {},
   "outputs": [],
   "source": [
    "# We are setting up the data for the plots\n",
    "plt_districts = df_count.set_index('District')\n",
    "plt_hosp = plt_districts.drop(['CovidCases'],axis=1)\n",
    "plt_covid = plt_districts.drop(['Hospitals'],axis=1)\n",
    "plt_covid.sort_values(by='CovidCases', ascending=True, inplace=True)\n",
    "plt_hosp.sort_values(by='Hospitals', ascending=True, inplace=True)"
   ]
  },
  {
   "cell_type": "code",
   "execution_count": 61,
   "metadata": {},
   "outputs": [
    {
     "data": {
      "text/plain": [
       "Text(0.5, 0, 'Quantity of Covid Positive Cases')"
      ]
     },
     "execution_count": 61,
     "metadata": {},
     "output_type": "execute_result"
    },
    {
     "data": {
      "image/png": "[encoded data removed]",
      "text/plain": [
       "<Figure size 1080x864 with 1 Axes>"
      ]
     },
     "metadata": {},
     "output_type": "display_data"
    }
   ],
   "source": [
    "ax1 = plt_covid.plot(kind='barh', figsize=(15,12))\n",
    "\n",
    "ax1.set_title('Covid Positive Cases per District in Lima (March 2020 - May 2020)')\n",
    "ax1.set_ylabel('Districts')\n",
    "ax1.set_xlabel('Quantity of Covid Positive Cases')"
   ]
  },
  {
   "cell_type": "code",
   "execution_count": 63,
   "metadata": {},
   "outputs": [
    {
     "data": {
      "text/plain": [
       "Text(0.5, 0, 'Quantity of Hospitals')"
      ]
     },
     "execution_count": 63,
     "metadata": {},
     "output_type": "execute_result"
    },
    {
     "data": {
      "image/png": "[encoded data removed]",
      "text/plain": [
       "<Figure size 1080x864 with 1 Axes>"
      ]
     },
     "metadata": {},
     "output_type": "display_data"
    }
   ],
   "source": [
    "ax2 = plt_hosp.plot(kind='barh', figsize=(15,12))\n",
    "\n",
    "ax2.set_title('Hospitals per District in Lima')\n",
    "ax2.set_ylabel('Districts')\n",
    "ax2.set_xlabel('Quantity of Hospitals')"
   ]
  },
  {
   "cell_type": "markdown",
   "metadata": {},
   "source": [
    "Interesting, we can see something here:\n",
    "* San Juan de Lurigancho and Lima have the most amount of COVID-19 cases.\n",
    "* Santa Maria del Mar, Punta Negra, San Bartolo, Punta Hermosa and Santa Rosa have the least amount of COVID-19 cases.\n",
    "* Lima, San Borja and Miraflores have the most hospitals than any other district\n",
    "* Santa Maria del Mar, Punta Negra, San Bartolo, Punta Hermosa, Santa Rosa, Ancon, Cieneguilla, and Pucusana have no hospitals."
   ]
  },
  {
   "cell_type": "markdown",
   "metadata": {},
   "source": [
    "* Lima has both the most COVID-19 cases and a large number of hospitals.\n",
    "* Santa Maria del Mar, Punta Negra, San Bartolo, Punta Hermosa and Santa Rosa have no hospitals. But, at the same time, they have little to no cases of COVID-19."
   ]
  },
  {
   "cell_type": "markdown",
   "metadata": {},
   "source": [
    "### Machine Learning"
   ]
  },
  {
   "cell_type": "markdown",
   "metadata": {},
   "source": [
    "For our machine learning part, we are going to do a basic **Content-Based** machine learning. This will help us recommend the most needed district. The steps are:"
   ]
  },
  {
   "cell_type": "markdown",
   "metadata": {},
   "source": [
    "* Import from sklearn MinMaxScaler\n",
    "* Normalize the values of the dataframe\n",
    "* Turn it into a dataframe"
   ]
  },
  {
   "cell_type": "code",
   "execution_count": 64,
   "metadata": {},
   "outputs": [],
   "source": [
    "from sklearn.preprocessing import MinMaxScaler\n",
    "scaler = MinMaxScaler()"
   ]
  },
  {
   "cell_type": "code",
   "execution_count": 65,
   "metadata": {},
   "outputs": [],
   "source": [
    "# Normalizing the dataframe\n",
    "count_normalized = scaler.fit_transform(plt_districts)"
   ]
  },
  {
   "cell_type": "code",
   "execution_count": 66,
   "metadata": {},
   "outputs": [],
   "source": [
    "# Save it into a datframe\n",
    "df_count_normalized = pd.DataFrame(count_normalized, index=plt_districts.index, columns=plt_districts.columns)"
   ]
  },
  {
   "cell_type": "code",
   "execution_count": 67,
   "metadata": {},
   "outputs": [
    {
     "data": {
      "text/html": [
       "<div>\n",
       "<style scoped>\n",
       "    .dataframe tbody tr th:only-of-type {\n",
       "        vertical-align: middle;\n",
       "    }\n",
       "\n",
       "    .dataframe tbody tr th {\n",
       "        vertical-align: top;\n",
       "    }\n",
       "\n",
       "    .dataframe thead th {\n",
       "        text-align: right;\n",
       "    }\n",
       "</style>\n",
       "<table border=\"1\" class=\"dataframe\">\n",
       "  <thead>\n",
       "    <tr style=\"text-align: right;\">\n",
       "      <th></th>\n",
       "      <th>CovidCases</th>\n",
       "      <th>Hospitals</th>\n",
       "    </tr>\n",
       "    <tr>\n",
       "      <th>District</th>\n",
       "      <th></th>\n",
       "      <th></th>\n",
       "    </tr>\n",
       "  </thead>\n",
       "  <tbody>\n",
       "    <tr>\n",
       "      <th>Ate</th>\n",
       "      <td>0.618105</td>\n",
       "      <td>0.1</td>\n",
       "    </tr>\n",
       "    <tr>\n",
       "      <th>Barranco</th>\n",
       "      <td>0.047751</td>\n",
       "      <td>0.4</td>\n",
       "    </tr>\n",
       "    <tr>\n",
       "      <th>Breña</th>\n",
       "      <td>0.131204</td>\n",
       "      <td>0.2</td>\n",
       "    </tr>\n",
       "    <tr>\n",
       "      <th>Carabayllo</th>\n",
       "      <td>0.224052</td>\n",
       "      <td>0.4</td>\n",
       "    </tr>\n",
       "    <tr>\n",
       "      <th>Chaclacayo</th>\n",
       "      <td>0.047419</td>\n",
       "      <td>0.7</td>\n",
       "    </tr>\n",
       "  </tbody>\n",
       "</table>\n",
       "</div>"
      ],
      "text/plain": [
       "            CovidCases  Hospitals\n",
       "District                         \n",
       "Ate           0.618105        0.1\n",
       "Barranco      0.047751        0.4\n",
       "Breña         0.131204        0.2\n",
       "Carabayllo    0.224052        0.4\n",
       "Chaclacayo    0.047419        0.7"
      ]
     },
     "execution_count": 67,
     "metadata": {},
     "output_type": "execute_result"
    }
   ],
   "source": [
    "df_count_normalized.head()"
   ]
  },
  {
   "cell_type": "markdown",
   "metadata": {},
   "source": [
    "---"
   ]
  },
  {
   "cell_type": "markdown",
   "metadata": {},
   "source": [
    "## RESULTS"
   ]
  },
  {
   "cell_type": "markdown",
   "metadata": {},
   "source": [
    "Now that we have our normalized dataframe ready, we can start with our final plot to make our decision. The steps are:\n",
    "* Sort the values of our normalized dataframe\n",
    "* Set up a condition. In this case we want the most amount of cases with the least amount of Hospitals per district.\n",
    "* Create the bar plot"
   ]
  },
  {
   "cell_type": "code",
   "execution_count": 68,
   "metadata": {},
   "outputs": [],
   "source": [
    "# Sorting the values\n",
    "df_count_normalized.sort_values(by=\"CovidCases\", ascending=False, axis=0, inplace=True)\n",
    "# Setting up our condition\n",
    "df_count_normalized_plot = df_count_normalized[(df_count_normalized['CovidCases'] >= 0.5) & \n",
    "                                               (df_count_normalized['Hospitals'] <= 0.5)]"
   ]
  },
  {
   "cell_type": "code",
   "execution_count": 69,
   "metadata": {},
   "outputs": [
    {
     "data": {
      "text/html": [
       "<div>\n",
       "<style scoped>\n",
       "    .dataframe tbody tr th:only-of-type {\n",
       "        vertical-align: middle;\n",
       "    }\n",
       "\n",
       "    .dataframe tbody tr th {\n",
       "        vertical-align: top;\n",
       "    }\n",
       "\n",
       "    .dataframe thead th {\n",
       "        text-align: right;\n",
       "    }\n",
       "</style>\n",
       "<table border=\"1\" class=\"dataframe\">\n",
       "  <thead>\n",
       "    <tr style=\"text-align: right;\">\n",
       "      <th></th>\n",
       "      <th>CovidCases</th>\n",
       "      <th>Hospitals</th>\n",
       "    </tr>\n",
       "    <tr>\n",
       "      <th>District</th>\n",
       "      <th></th>\n",
       "      <th></th>\n",
       "    </tr>\n",
       "  </thead>\n",
       "  <tbody>\n",
       "    <tr>\n",
       "      <th>San Juan de Lurigancho</th>\n",
       "      <td>1.000000</td>\n",
       "      <td>0.5</td>\n",
       "    </tr>\n",
       "    <tr>\n",
       "      <th>San Martín de Porres</th>\n",
       "      <td>0.741461</td>\n",
       "      <td>0.2</td>\n",
       "    </tr>\n",
       "    <tr>\n",
       "      <th>Ate</th>\n",
       "      <td>0.618105</td>\n",
       "      <td>0.1</td>\n",
       "    </tr>\n",
       "    <tr>\n",
       "      <th>Comas</th>\n",
       "      <td>0.580634</td>\n",
       "      <td>0.3</td>\n",
       "    </tr>\n",
       "  </tbody>\n",
       "</table>\n",
       "</div>"
      ],
      "text/plain": [
       "                        CovidCases  Hospitals\n",
       "District                                     \n",
       "San Juan de Lurigancho    1.000000        0.5\n",
       "San Martín de Porres      0.741461        0.2\n",
       "Ate                       0.618105        0.1\n",
       "Comas                     0.580634        0.3"
      ]
     },
     "execution_count": 69,
     "metadata": {},
     "output_type": "execute_result"
    }
   ],
   "source": [
    "df_count_normalized_plot"
   ]
  },
  {
   "cell_type": "code",
   "execution_count": 71,
   "metadata": {},
   "outputs": [
    {
     "data": {
      "image/png": "[encoded data removed]",
      "text/plain": [
       "<Figure size 720x576 with 1 Axes>"
      ]
     },
     "metadata": {},
     "output_type": "display_data"
    }
   ],
   "source": [
    "# Creating our plot\n",
    "\n",
    "colors_list = ['#d9534f', '#5cb85c']\n",
    "ax3 = df_count_normalized_plot.plot(kind=\"bar\", figsize=(10,8), width = 0.8, color=colors_list)\n",
    "\n",
    "ax3.spines['top'].set_visible(False)\n",
    "ax3.spines['right'].set_visible(False)\n",
    "ax3.spines['bottom'].set_visible(True)\n",
    "ax3.spines['left'].set_visible(False)\n",
    "ax3.get_yaxis().set_ticks([])\n",
    "ax3.set_title('Percentage of Covid Positive persons and Hospitals per District (March - May)', fontsize=13)\n",
    "ax3.legend(fontsize=14)\n",
    "ax3.tick_params(axis=\"x\", labelsize=14)\n",
    "\n",
    "for index, value in enumerate(df_count_normalized_plot.loc[:,\"CovidCases\"]):\n",
    "    ax3.text(index-0.34, value+0.02, str('{:.1%}'.format(value)), fontsize=12)\n",
    "    \n",
    "for index, value in enumerate(df_count_normalized_plot.loc[:,\"Hospitals\"]):\n",
    "    ax3.text(index+0.06, value+0.02, str('{:.1%}'.format(value)), fontsize=12)"
   ]
  },
  {
   "cell_type": "markdown",
   "metadata": {},
   "source": [
    "Now that we have our plot, we can answer the question."
   ]
  },
  {
   "cell_type": "markdown",
   "metadata": {},
   "source": [
    "**Q: Analyzing the data, which districts would the team recommend opening a new hospital?**"
   ]
  },
  {
   "cell_type": "markdown",
   "metadata": {},
   "source": [
    "**A: The district that need new hospitals amidst this pandemic are San Juan de Lurigancho, San Martin de Porres, Ate and Comas.**"
   ]
  },
  {
   "cell_type": "markdown",
   "metadata": {},
   "source": [
    "The reason we can give for this decision is:\n",
    "* These four districts are among the top 5 most positive COVID-19 cases\n",
    "* Lima has the same amount of positive cases as San Juan de Lurigancho, but also has the most amount of hospitals.\n",
    "* The difference between COVID-19 cases and hospitals within these districts is about 30%to 50%\n",
    "* If Lima is the example, these 4 districts need more hospitals to help defeat COVID-19."
   ]
  },
  {
   "cell_type": "markdown",
   "metadata": {},
   "source": [
    "---"
   ]
  },
  {
   "cell_type": "markdown",
   "metadata": {},
   "source": [
    "## DISCUSSION"
   ]
  },
  {
   "cell_type": "markdown",
   "metadata": {},
   "source": [
    "Regarding the Foursquare API, it did bring me the venues from the right category (Hospitals). However, the data was very messy and had to clean it a lot. Most of the hospitals also had their old names from before 2015. This makes me think that, at least in Lima, the app is not really being used as much as other countries. What’s more interesting was that some hospitals retrieved had 2 to 3 different names in their database pointing to the same location. Those were hard to track, but they were also removed. The data used here is probably outdated and not so reliable.\n",
    "\n",
    "Regarding COVID-19, the amount of cases keeps increasing by the day, so by the end of June the data will be outdated. This is a project that constantly needs to have new data to be relevant. The best way is to create a python file and call it every day to get updated data on this statistic. Even so, the data from the government of Peru might also be unreliable. This has been called out recently, because some statisticians in Peru have found out inconsistencies with our positive cases and deaths. Further investigation will be necessary to trust 100% this data."
   ]
  },
  {
   "cell_type": "markdown",
   "metadata": {},
   "source": [
    "---"
   ]
  },
  {
   "cell_type": "markdown",
   "metadata": {},
   "source": [
    "## CONCLUSION"
   ]
  },
  {
   "cell_type": "markdown",
   "metadata": {},
   "source": [
    "The government of Peru now has the answer to their problem. The 4 districts of Lima, Peru have been set as a priority to build new hospitals and fight the pandemic. This was made possible by having the COVID-19 data and hospitals by district. In our case, **Content-Based Filtering** was the best choice."
   ]
  },
  {
   "cell_type": "markdown",
   "metadata": {},
   "source": [
    "This project has a lot of room for improvement. We can aggregate a lot more factors to do our decision like Pharmacies, population, transit of people, and much more. Considering my current level of expertise in Python programming, I feel satisfied with this project. I learned a lot about my city and how we are currently facing this pandemic."
   ]
  }
 ],
 "metadata": {
  "kernelspec": {
   "display_name": "Python 3",
   "language": "python",
   "name": "python3"
  },
  "language_info": {
   "codemirror_mode": {
    "name": "ipython",
    "version": 3
   },
   "file_extension": ".py",
   "mimetype": "text/x-python",
   "name": "python",
   "nbconvert_exporter": "python",
   "pygments_lexer": "ipython3",
   "version": "3.8.3"
  }
 },
 "nbformat": 4,
 "nbformat_minor": 4
}
